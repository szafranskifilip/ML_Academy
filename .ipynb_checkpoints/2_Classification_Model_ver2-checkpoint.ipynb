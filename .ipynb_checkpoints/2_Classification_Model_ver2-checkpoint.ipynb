{
 "cells": [
  {
   "cell_type": "code",
   "execution_count": 1,
   "id": "21485253-b266-4822-be78-2f4c051ff016",
   "metadata": {
    "tags": []
   },
   "outputs": [
    {
     "name": "stdout",
     "output_type": "stream",
     "text": [
      "Intel MKL WARNING: Support of Intel(R) Streaming SIMD Extensions 4.2 (Intel(R) SSE4.2) enabled only processors has been deprecated. Intel oneAPI Math Kernel Library 2025.0 will require Intel(R) Advanced Vector Extensions (Intel(R) AVX) instructions.\n",
      "Intel MKL WARNING: Support of Intel(R) Streaming SIMD Extensions 4.2 (Intel(R) SSE4.2) enabled only processors has been deprecated. Intel oneAPI Math Kernel Library 2025.0 will require Intel(R) Advanced Vector Extensions (Intel(R) AVX) instructions.\n"
     ]
    }
   ],
   "source": [
    "import pandas as pd\n",
    "import numpy as np\n",
    "import matplotlib.pyplot as plt\n",
    "from sklearn.model_selection import train_test_split\n",
    "from sklearn.preprocessing import TargetEncoder"
   ]
  },
  {
   "cell_type": "markdown",
   "id": "007ca06f-efe2-4e98-b0a2-704fee360bc6",
   "metadata": {},
   "source": [
    "## Import data"
   ]
  },
  {
   "cell_type": "code",
   "execution_count": 2,
   "id": "806c3707-e29d-44ea-85ef-9a1982673995",
   "metadata": {},
   "outputs": [],
   "source": [
    "# Load the DataFrame from the pickle file\n",
    "df = pd.read_pickle('Data/processed_data.pkl')"
   ]
  },
  {
   "cell_type": "markdown",
   "id": "0ad12070-5a3c-4640-9a29-81cb6fa4fec1",
   "metadata": {},
   "source": [
    "Inspect data"
   ]
  },
  {
   "cell_type": "code",
   "execution_count": 3,
   "id": "60cd64a7-e2a1-41b5-8795-4e2618d1b36a",
   "metadata": {},
   "outputs": [
    {
     "data": {
      "text/html": [
       "<div>\n",
       "<style scoped>\n",
       "    .dataframe tbody tr th:only-of-type {\n",
       "        vertical-align: middle;\n",
       "    }\n",
       "\n",
       "    .dataframe tbody tr th {\n",
       "        vertical-align: top;\n",
       "    }\n",
       "\n",
       "    .dataframe thead th {\n",
       "        text-align: right;\n",
       "    }\n",
       "</style>\n",
       "<table border=\"1\" class=\"dataframe\">\n",
       "  <thead>\n",
       "    <tr style=\"text-align: right;\">\n",
       "      <th></th>\n",
       "      <th>Country</th>\n",
       "      <th>ASN</th>\n",
       "      <th>TTL</th>\n",
       "      <th>IP</th>\n",
       "      <th>Domain</th>\n",
       "      <th>State</th>\n",
       "      <th>Country.1</th>\n",
       "      <th>hex_32</th>\n",
       "      <th>hex_8</th>\n",
       "      <th>Domain_Name</th>\n",
       "      <th>...</th>\n",
       "      <th>3gram</th>\n",
       "      <th>char_distribution</th>\n",
       "      <th>2gram</th>\n",
       "      <th>Registrar</th>\n",
       "      <th>sld</th>\n",
       "      <th>Name_Server_Count</th>\n",
       "      <th>Page_Rank</th>\n",
       "      <th>label</th>\n",
       "      <th>Year</th>\n",
       "      <th>Month</th>\n",
       "    </tr>\n",
       "  </thead>\n",
       "  <tbody>\n",
       "    <tr>\n",
       "      <th>0</th>\n",
       "      <td>US</td>\n",
       "      <td>15169.0</td>\n",
       "      <td>46.0</td>\n",
       "      <td>172.217.1.174</td>\n",
       "      <td>b'google.com.'</td>\n",
       "      <td>CA</td>\n",
       "      <td>US</td>\n",
       "      <td>0.0</td>\n",
       "      <td>0.0</td>\n",
       "      <td>['GOOGLE.COM', 'google.com']</td>\n",
       "      <td>...</td>\n",
       "      <td>['goo', 'oog', 'ogl', 'gle']</td>\n",
       "      <td>defaultdict(&lt;class 'int'&gt;, {'e': 1, 'o': 2, 'g...</td>\n",
       "      <td>['go', 'oo', 'og', 'gl', 'le']</td>\n",
       "      <td>MarkMonitor inc.</td>\n",
       "      <td>google</td>\n",
       "      <td>8.0</td>\n",
       "      <td>-1.0</td>\n",
       "      <td>0</td>\n",
       "      <td>1997.0</td>\n",
       "      <td>9.0</td>\n",
       "    </tr>\n",
       "    <tr>\n",
       "      <th>1</th>\n",
       "      <td>NaN</td>\n",
       "      <td>NaN</td>\n",
       "      <td>299.0</td>\n",
       "      <td>NaN</td>\n",
       "      <td>b'google.com.'</td>\n",
       "      <td>CA</td>\n",
       "      <td>US</td>\n",
       "      <td>0.0</td>\n",
       "      <td>0.0</td>\n",
       "      <td>['GOOGLE.COM', 'google.com']</td>\n",
       "      <td>...</td>\n",
       "      <td>['goo', 'oog', 'ogl', 'gle']</td>\n",
       "      <td>defaultdict(&lt;class 'int'&gt;, {'e': 1, 'o': 2, 'g...</td>\n",
       "      <td>['go', 'oo', 'og', 'gl', 'le']</td>\n",
       "      <td>MarkMonitor inc.</td>\n",
       "      <td>google</td>\n",
       "      <td>8.0</td>\n",
       "      <td>-1.0</td>\n",
       "      <td>0</td>\n",
       "      <td>1997.0</td>\n",
       "      <td>9.0</td>\n",
       "    </tr>\n",
       "    <tr>\n",
       "      <th>2</th>\n",
       "      <td>NaN</td>\n",
       "      <td>NaN</td>\n",
       "      <td>38.0</td>\n",
       "      <td>NaN</td>\n",
       "      <td>b'www.google.com.'</td>\n",
       "      <td>NaN</td>\n",
       "      <td>NaN</td>\n",
       "      <td>0.0</td>\n",
       "      <td>0.0</td>\n",
       "      <td>GOOGLE.COM</td>\n",
       "      <td>...</td>\n",
       "      <td>['goo', 'oog', 'ogl', 'gle']</td>\n",
       "      <td>defaultdict(&lt;class 'int'&gt;, {'e': 1, 'o': 2, 'w...</td>\n",
       "      <td>['go', 'oo', 'og', 'gl', 'le']</td>\n",
       "      <td>MarkMonitor Inc.</td>\n",
       "      <td>google</td>\n",
       "      <td>4.0</td>\n",
       "      <td>-1.0</td>\n",
       "      <td>0</td>\n",
       "      <td>1997.0</td>\n",
       "      <td>9.0</td>\n",
       "    </tr>\n",
       "    <tr>\n",
       "      <th>3</th>\n",
       "      <td>US</td>\n",
       "      <td>15169.0</td>\n",
       "      <td>299.0</td>\n",
       "      <td>172.217.164.228</td>\n",
       "      <td>b'www.google.com.'</td>\n",
       "      <td>NaN</td>\n",
       "      <td>NaN</td>\n",
       "      <td>0.0</td>\n",
       "      <td>0.0</td>\n",
       "      <td>NaN</td>\n",
       "      <td>...</td>\n",
       "      <td>['goo', 'oog', 'ogl', 'gle']</td>\n",
       "      <td>defaultdict(&lt;class 'int'&gt;, {'e': 1, 'o': 2, 'w...</td>\n",
       "      <td>['go', 'oo', 'og', 'gl', 'le']</td>\n",
       "      <td>NaN</td>\n",
       "      <td>google</td>\n",
       "      <td>NaN</td>\n",
       "      <td>NaN</td>\n",
       "      <td>0</td>\n",
       "      <td>NaN</td>\n",
       "      <td>NaN</td>\n",
       "    </tr>\n",
       "    <tr>\n",
       "      <th>4</th>\n",
       "      <td>NaN</td>\n",
       "      <td>NaN</td>\n",
       "      <td>96.0</td>\n",
       "      <td>NaN</td>\n",
       "      <td>b'facebook.com.'</td>\n",
       "      <td>CA</td>\n",
       "      <td>US</td>\n",
       "      <td>0.0</td>\n",
       "      <td>0.0</td>\n",
       "      <td>FACEBOOK.COM</td>\n",
       "      <td>...</td>\n",
       "      <td>['fac', 'ace', 'ceb', 'ebo', 'boo', 'ook']</td>\n",
       "      <td>defaultdict(&lt;class 'int'&gt;, {'e': 1, 'c': 1, 'o...</td>\n",
       "      <td>['fa', 'ac', 'ce', 'eb', 'bo', 'oo', 'ok']</td>\n",
       "      <td>RegistrarSafe LLC</td>\n",
       "      <td>facebook</td>\n",
       "      <td>4.0</td>\n",
       "      <td>-1.0</td>\n",
       "      <td>0</td>\n",
       "      <td>1997.0</td>\n",
       "      <td>3.0</td>\n",
       "    </tr>\n",
       "  </tbody>\n",
       "</table>\n",
       "<p>5 rows × 39 columns</p>\n",
       "</div>"
      ],
      "text/plain": [
       "  Country      ASN    TTL               IP              Domain State  \\\n",
       "0      US  15169.0   46.0    172.217.1.174      b'google.com.'    CA   \n",
       "1     NaN      NaN  299.0              NaN      b'google.com.'    CA   \n",
       "2     NaN      NaN   38.0              NaN  b'www.google.com.'   NaN   \n",
       "3      US  15169.0  299.0  172.217.164.228  b'www.google.com.'   NaN   \n",
       "4     NaN      NaN   96.0              NaN    b'facebook.com.'    CA   \n",
       "\n",
       "  Country.1  hex_32  hex_8                   Domain_Name  ...  \\\n",
       "0        US     0.0    0.0  ['GOOGLE.COM', 'google.com']  ...   \n",
       "1        US     0.0    0.0  ['GOOGLE.COM', 'google.com']  ...   \n",
       "2       NaN     0.0    0.0                    GOOGLE.COM  ...   \n",
       "3       NaN     0.0    0.0                           NaN  ...   \n",
       "4        US     0.0    0.0                  FACEBOOK.COM  ...   \n",
       "\n",
       "                                        3gram  \\\n",
       "0                ['goo', 'oog', 'ogl', 'gle']   \n",
       "1                ['goo', 'oog', 'ogl', 'gle']   \n",
       "2                ['goo', 'oog', 'ogl', 'gle']   \n",
       "3                ['goo', 'oog', 'ogl', 'gle']   \n",
       "4  ['fac', 'ace', 'ceb', 'ebo', 'boo', 'ook']   \n",
       "\n",
       "                                   char_distribution  \\\n",
       "0  defaultdict(<class 'int'>, {'e': 1, 'o': 2, 'g...   \n",
       "1  defaultdict(<class 'int'>, {'e': 1, 'o': 2, 'g...   \n",
       "2  defaultdict(<class 'int'>, {'e': 1, 'o': 2, 'w...   \n",
       "3  defaultdict(<class 'int'>, {'e': 1, 'o': 2, 'w...   \n",
       "4  defaultdict(<class 'int'>, {'e': 1, 'c': 1, 'o...   \n",
       "\n",
       "                                        2gram          Registrar       sld  \\\n",
       "0              ['go', 'oo', 'og', 'gl', 'le']   MarkMonitor inc.    google   \n",
       "1              ['go', 'oo', 'og', 'gl', 'le']   MarkMonitor inc.    google   \n",
       "2              ['go', 'oo', 'og', 'gl', 'le']   MarkMonitor Inc.    google   \n",
       "3              ['go', 'oo', 'og', 'gl', 'le']                NaN    google   \n",
       "4  ['fa', 'ac', 'ce', 'eb', 'bo', 'oo', 'ok']  RegistrarSafe LLC  facebook   \n",
       "\n",
       "   Name_Server_Count  Page_Rank label    Year  Month  \n",
       "0                8.0       -1.0     0  1997.0    9.0  \n",
       "1                8.0       -1.0     0  1997.0    9.0  \n",
       "2                4.0       -1.0     0  1997.0    9.0  \n",
       "3                NaN        NaN     0     NaN    NaN  \n",
       "4                4.0       -1.0     0  1997.0    3.0  \n",
       "\n",
       "[5 rows x 39 columns]"
      ]
     },
     "execution_count": 3,
     "metadata": {},
     "output_type": "execute_result"
    }
   ],
   "source": [
    "df.head()"
   ]
  },
  {
   "cell_type": "code",
   "execution_count": 4,
   "id": "8a6b77ef-bbbf-49a4-8a77-d293ac3bc2e7",
   "metadata": {},
   "outputs": [
    {
     "name": "stdout",
     "output_type": "stream",
     "text": [
      "<class 'pandas.core.frame.DataFrame'>\n",
      "RangeIndex: 499134 entries, 0 to 499133\n",
      "Data columns (total 39 columns):\n",
      " #   Column              Non-Null Count   Dtype  \n",
      "---  ------              --------------   -----  \n",
      " 0   Country             389247 non-null  object \n",
      " 1   ASN                 389304 non-null  float64\n",
      " 2   TTL                 499110 non-null  float64\n",
      " 3   IP                  390538 non-null  object \n",
      " 4   Domain              499134 non-null  object \n",
      " 5   State               220137 non-null  object \n",
      " 6   Country.1           256983 non-null  object \n",
      " 7   hex_32              498752 non-null  float64\n",
      " 8   hex_8               499107 non-null  float64\n",
      " 9   Domain_Name         401406 non-null  object \n",
      " 10  Alexa_Rank          444331 non-null  float64\n",
      " 11  subdomain           499005 non-null  float64\n",
      " 12  Organization        204027 non-null  object \n",
      " 13  len                 468104 non-null  float64\n",
      " 14  longest_word        499001 non-null  object \n",
      " 15  oc_32               468347 non-null  float64\n",
      " 16  shortened           497612 non-null  float64\n",
      " 17  1gram               499112 non-null  object \n",
      " 18  obfuscate_at_sign   468272 non-null  float64\n",
      " 19  entropy             498956 non-null  float64\n",
      " 20  Domain_Age          332404 non-null  float64\n",
      " 21  tld                 499131 non-null  object \n",
      " 22  dec_8               468233 non-null  float64\n",
      " 23  dec_32              498632 non-null  float64\n",
      " 24  Emails              326900 non-null  object \n",
      " 25  numeric_percentage  467037 non-null  float64\n",
      " 26  puny_coded          498629 non-null  float64\n",
      " 27  typos               499134 non-null  object \n",
      " 28  oc_8                466532 non-null  float64\n",
      " 29  3gram               499134 non-null  object \n",
      " 30  char_distribution   499134 non-null  object \n",
      " 31  2gram               498947 non-null  object \n",
      " 32  Registrar           357895 non-null  object \n",
      " 33  sld                 497805 non-null  object \n",
      " 34  Name_Server_Count   345553 non-null  float64\n",
      " 35  Page_Rank           444217 non-null  float64\n",
      " 36  label               499134 non-null  int64  \n",
      " 37  Year                362665 non-null  float64\n",
      " 38  Month               362665 non-null  float64\n",
      "dtypes: float64(21), int64(1), object(17)\n",
      "memory usage: 148.5+ MB\n"
     ]
    }
   ],
   "source": [
    "df.info()"
   ]
  },
  {
   "cell_type": "markdown",
   "id": "46cf3355-ce1f-4a8d-b39f-7cfd82775f30",
   "metadata": {},
   "source": [
    "## Split data"
   ]
  },
  {
   "cell_type": "code",
   "execution_count": 134,
   "id": "540bfd53-9433-45cd-a0f6-45f98dc1c33e",
   "metadata": {},
   "outputs": [],
   "source": [
    "from sklearn.model_selection import train_test_split, cross_val_score\n",
    "from sklearn.impute import KNNImputer, SimpleImputer\n",
    "from sklearn.preprocessing import LabelEncoder, StandardScaler, OrdinalEncoder, TargetEncoder\n",
    "from sklearn.feature_selection import SelectKBest\n",
    "from sklearn.compose import ColumnTransformer\n",
    "from sklearn.utils import class_weight\n",
    "from sklearn.decomposition import PCA\n",
    "from sklearn.pipeline import Pipeline\n",
    "from sklearn import set_config"
   ]
  },
  {
   "cell_type": "code",
   "execution_count": 135,
   "id": "81100f31-4b8c-4e7e-bf06-ea30b2807763",
   "metadata": {},
   "outputs": [],
   "source": [
    "from sklearn.linear_model import LogisticRegression\n",
    "from sklearn.tree import DecisionTreeClassifier\n",
    "from sklearn.ensemble import AdaBoostClassifier, RandomForestClassifier\n",
    "from sklearn.gaussian_process import GaussianProcessClassifier\n",
    "from sklearn.gaussian_process.kernels import RBF\n",
    "from sklearn.naive_bayes import GaussianNB\n",
    "from sklearn.neighbors import KNeighborsClassifier\n",
    "from sklearn.neural_network import MLPClassifier\n",
    "from sklearn.svm import SVC\n",
    "from sklearn.tree import DecisionTreeClassifier"
   ]
  },
  {
   "cell_type": "code",
   "execution_count": 188,
   "id": "319ecd91-a20e-43bd-829a-1f7bc11b2731",
   "metadata": {},
   "outputs": [],
   "source": [
    "from sklearn.metrics import recall_score, f1_score, precision_score, roc_auc_score"
   ]
  },
  {
   "cell_type": "code",
   "execution_count": 122,
   "id": "900d962a-4c79-45a1-8710-57fa877b5911",
   "metadata": {},
   "outputs": [],
   "source": [
    "X,y = df.drop(['label'],axis = 1) , df['label']\n",
    "X_train, X_test, y_train, y_test = train_test_split(X, y, test_size=0.3, random_state=0)"
   ]
  },
  {
   "cell_type": "code",
   "execution_count": 75,
   "id": "b941a0ae-f559-4c6c-92e1-6159acaed0ef",
   "metadata": {},
   "outputs": [],
   "source": [
    "set_config(display=\"diagram\")"
   ]
  },
  {
   "cell_type": "markdown",
   "id": "6d332795-945c-489c-b6e4-1a5b3bbe30a4",
   "metadata": {},
   "source": [
    "Determine numerical and categorical columns"
   ]
  },
  {
   "cell_type": "code",
   "execution_count": 7,
   "id": "086502ee-972c-49d4-9fd6-010fc585d05c",
   "metadata": {},
   "outputs": [],
   "source": [
    "num_col = X.select_dtypes(include=['int', 'float']).columns\n",
    "cat_col = X.select_dtypes(include=['object']).columns"
   ]
  },
  {
   "cell_type": "code",
   "execution_count": 8,
   "id": "63850910-2cd4-481b-af08-0560a109720f",
   "metadata": {},
   "outputs": [
    {
     "data": {
      "text/html": [
       "<div>\n",
       "<style scoped>\n",
       "    .dataframe tbody tr th:only-of-type {\n",
       "        vertical-align: middle;\n",
       "    }\n",
       "\n",
       "    .dataframe tbody tr th {\n",
       "        vertical-align: top;\n",
       "    }\n",
       "\n",
       "    .dataframe thead th {\n",
       "        text-align: right;\n",
       "    }\n",
       "</style>\n",
       "<table border=\"1\" class=\"dataframe\">\n",
       "  <thead>\n",
       "    <tr style=\"text-align: right;\">\n",
       "      <th></th>\n",
       "      <th>ASN</th>\n",
       "      <th>TTL</th>\n",
       "      <th>hex_32</th>\n",
       "      <th>hex_8</th>\n",
       "      <th>Alexa_Rank</th>\n",
       "      <th>subdomain</th>\n",
       "      <th>len</th>\n",
       "      <th>oc_32</th>\n",
       "      <th>shortened</th>\n",
       "      <th>obfuscate_at_sign</th>\n",
       "      <th>...</th>\n",
       "      <th>Domain_Age</th>\n",
       "      <th>dec_8</th>\n",
       "      <th>dec_32</th>\n",
       "      <th>numeric_percentage</th>\n",
       "      <th>puny_coded</th>\n",
       "      <th>oc_8</th>\n",
       "      <th>Name_Server_Count</th>\n",
       "      <th>Page_Rank</th>\n",
       "      <th>Year</th>\n",
       "      <th>Month</th>\n",
       "    </tr>\n",
       "  </thead>\n",
       "  <tbody>\n",
       "    <tr>\n",
       "      <th>0</th>\n",
       "      <td>15169.0</td>\n",
       "      <td>46.0</td>\n",
       "      <td>0.0</td>\n",
       "      <td>0.0</td>\n",
       "      <td>1.0</td>\n",
       "      <td>0.0</td>\n",
       "      <td>7.0</td>\n",
       "      <td>0.0</td>\n",
       "      <td>-1.0</td>\n",
       "      <td>0.0</td>\n",
       "      <td>...</td>\n",
       "      <td>8256.0</td>\n",
       "      <td>0.0</td>\n",
       "      <td>0.0</td>\n",
       "      <td>0.000000</td>\n",
       "      <td>0.0</td>\n",
       "      <td>0.0</td>\n",
       "      <td>8.0</td>\n",
       "      <td>-1.0</td>\n",
       "      <td>1997.0</td>\n",
       "      <td>9.0</td>\n",
       "    </tr>\n",
       "    <tr>\n",
       "      <th>1</th>\n",
       "      <td>NaN</td>\n",
       "      <td>299.0</td>\n",
       "      <td>0.0</td>\n",
       "      <td>0.0</td>\n",
       "      <td>1.0</td>\n",
       "      <td>0.0</td>\n",
       "      <td>7.0</td>\n",
       "      <td>0.0</td>\n",
       "      <td>-1.0</td>\n",
       "      <td>0.0</td>\n",
       "      <td>...</td>\n",
       "      <td>8256.0</td>\n",
       "      <td>0.0</td>\n",
       "      <td>0.0</td>\n",
       "      <td>0.000000</td>\n",
       "      <td>0.0</td>\n",
       "      <td>0.0</td>\n",
       "      <td>8.0</td>\n",
       "      <td>-1.0</td>\n",
       "      <td>1997.0</td>\n",
       "      <td>9.0</td>\n",
       "    </tr>\n",
       "    <tr>\n",
       "      <th>2</th>\n",
       "      <td>NaN</td>\n",
       "      <td>38.0</td>\n",
       "      <td>0.0</td>\n",
       "      <td>0.0</td>\n",
       "      <td>1.0</td>\n",
       "      <td>1.0</td>\n",
       "      <td>10.0</td>\n",
       "      <td>0.0</td>\n",
       "      <td>-1.0</td>\n",
       "      <td>0.0</td>\n",
       "      <td>...</td>\n",
       "      <td>8256.0</td>\n",
       "      <td>0.0</td>\n",
       "      <td>0.0</td>\n",
       "      <td>0.000000</td>\n",
       "      <td>0.0</td>\n",
       "      <td>0.0</td>\n",
       "      <td>4.0</td>\n",
       "      <td>-1.0</td>\n",
       "      <td>1997.0</td>\n",
       "      <td>9.0</td>\n",
       "    </tr>\n",
       "    <tr>\n",
       "      <th>3</th>\n",
       "      <td>15169.0</td>\n",
       "      <td>299.0</td>\n",
       "      <td>0.0</td>\n",
       "      <td>0.0</td>\n",
       "      <td>NaN</td>\n",
       "      <td>1.0</td>\n",
       "      <td>10.0</td>\n",
       "      <td>0.0</td>\n",
       "      <td>-1.0</td>\n",
       "      <td>0.0</td>\n",
       "      <td>...</td>\n",
       "      <td>NaN</td>\n",
       "      <td>0.0</td>\n",
       "      <td>0.0</td>\n",
       "      <td>0.000000</td>\n",
       "      <td>0.0</td>\n",
       "      <td>0.0</td>\n",
       "      <td>NaN</td>\n",
       "      <td>NaN</td>\n",
       "      <td>NaN</td>\n",
       "      <td>NaN</td>\n",
       "    </tr>\n",
       "    <tr>\n",
       "      <th>4</th>\n",
       "      <td>NaN</td>\n",
       "      <td>96.0</td>\n",
       "      <td>0.0</td>\n",
       "      <td>0.0</td>\n",
       "      <td>4.0</td>\n",
       "      <td>0.0</td>\n",
       "      <td>9.0</td>\n",
       "      <td>0.0</td>\n",
       "      <td>-1.0</td>\n",
       "      <td>0.0</td>\n",
       "      <td>...</td>\n",
       "      <td>8426.0</td>\n",
       "      <td>0.0</td>\n",
       "      <td>0.0</td>\n",
       "      <td>0.000000</td>\n",
       "      <td>0.0</td>\n",
       "      <td>0.0</td>\n",
       "      <td>4.0</td>\n",
       "      <td>-1.0</td>\n",
       "      <td>1997.0</td>\n",
       "      <td>3.0</td>\n",
       "    </tr>\n",
       "    <tr>\n",
       "      <th>...</th>\n",
       "      <td>...</td>\n",
       "      <td>...</td>\n",
       "      <td>...</td>\n",
       "      <td>...</td>\n",
       "      <td>...</td>\n",
       "      <td>...</td>\n",
       "      <td>...</td>\n",
       "      <td>...</td>\n",
       "      <td>...</td>\n",
       "      <td>...</td>\n",
       "      <td>...</td>\n",
       "      <td>...</td>\n",
       "      <td>...</td>\n",
       "      <td>...</td>\n",
       "      <td>...</td>\n",
       "      <td>...</td>\n",
       "      <td>...</td>\n",
       "      <td>...</td>\n",
       "      <td>...</td>\n",
       "      <td>...</td>\n",
       "      <td>...</td>\n",
       "    </tr>\n",
       "    <tr>\n",
       "      <th>499129</th>\n",
       "      <td>24940.0</td>\n",
       "      <td>14399.0</td>\n",
       "      <td>0.0</td>\n",
       "      <td>0.0</td>\n",
       "      <td>NaN</td>\n",
       "      <td>0.0</td>\n",
       "      <td>17.0</td>\n",
       "      <td>0.0</td>\n",
       "      <td>-1.0</td>\n",
       "      <td>0.0</td>\n",
       "      <td>...</td>\n",
       "      <td>NaN</td>\n",
       "      <td>0.0</td>\n",
       "      <td>0.0</td>\n",
       "      <td>0.000000</td>\n",
       "      <td>0.0</td>\n",
       "      <td>0.0</td>\n",
       "      <td>NaN</td>\n",
       "      <td>NaN</td>\n",
       "      <td>NaN</td>\n",
       "      <td>NaN</td>\n",
       "    </tr>\n",
       "    <tr>\n",
       "      <th>499130</th>\n",
       "      <td>204915.0</td>\n",
       "      <td>3599.0</td>\n",
       "      <td>0.0</td>\n",
       "      <td>0.0</td>\n",
       "      <td>3851.0</td>\n",
       "      <td>1.0</td>\n",
       "      <td>32.0</td>\n",
       "      <td>0.0</td>\n",
       "      <td>-1.0</td>\n",
       "      <td>0.0</td>\n",
       "      <td>...</td>\n",
       "      <td>1440.0</td>\n",
       "      <td>0.0</td>\n",
       "      <td>0.0</td>\n",
       "      <td>7.894737</td>\n",
       "      <td>0.0</td>\n",
       "      <td>0.0</td>\n",
       "      <td>4.0</td>\n",
       "      <td>-1.0</td>\n",
       "      <td>2016.0</td>\n",
       "      <td>5.0</td>\n",
       "    </tr>\n",
       "    <tr>\n",
       "      <th>499131</th>\n",
       "      <td>NaN</td>\n",
       "      <td>3599.0</td>\n",
       "      <td>0.0</td>\n",
       "      <td>0.0</td>\n",
       "      <td>3851.0</td>\n",
       "      <td>1.0</td>\n",
       "      <td>32.0</td>\n",
       "      <td>0.0</td>\n",
       "      <td>-1.0</td>\n",
       "      <td>0.0</td>\n",
       "      <td>...</td>\n",
       "      <td>1440.0</td>\n",
       "      <td>0.0</td>\n",
       "      <td>0.0</td>\n",
       "      <td>7.894737</td>\n",
       "      <td>0.0</td>\n",
       "      <td>0.0</td>\n",
       "      <td>4.0</td>\n",
       "      <td>-1.0</td>\n",
       "      <td>2016.0</td>\n",
       "      <td>5.0</td>\n",
       "    </tr>\n",
       "    <tr>\n",
       "      <th>499132</th>\n",
       "      <td>8767.0</td>\n",
       "      <td>1799.0</td>\n",
       "      <td>0.0</td>\n",
       "      <td>0.0</td>\n",
       "      <td>-1.0</td>\n",
       "      <td>0.0</td>\n",
       "      <td>18.0</td>\n",
       "      <td>0.0</td>\n",
       "      <td>-1.0</td>\n",
       "      <td>0.0</td>\n",
       "      <td>...</td>\n",
       "      <td>NaN</td>\n",
       "      <td>0.0</td>\n",
       "      <td>0.0</td>\n",
       "      <td>0.000000</td>\n",
       "      <td>0.0</td>\n",
       "      <td>0.0</td>\n",
       "      <td>0.0</td>\n",
       "      <td>-1.0</td>\n",
       "      <td>NaN</td>\n",
       "      <td>NaN</td>\n",
       "    </tr>\n",
       "    <tr>\n",
       "      <th>499133</th>\n",
       "      <td>8767.0</td>\n",
       "      <td>1799.0</td>\n",
       "      <td>0.0</td>\n",
       "      <td>0.0</td>\n",
       "      <td>5004230.0</td>\n",
       "      <td>1.0</td>\n",
       "      <td>11.0</td>\n",
       "      <td>0.0</td>\n",
       "      <td>-1.0</td>\n",
       "      <td>0.0</td>\n",
       "      <td>...</td>\n",
       "      <td>NaN</td>\n",
       "      <td>0.0</td>\n",
       "      <td>0.0</td>\n",
       "      <td>0.000000</td>\n",
       "      <td>0.0</td>\n",
       "      <td>0.0</td>\n",
       "      <td>0.0</td>\n",
       "      <td>-1.0</td>\n",
       "      <td>NaN</td>\n",
       "      <td>NaN</td>\n",
       "    </tr>\n",
       "  </tbody>\n",
       "</table>\n",
       "<p>499134 rows × 21 columns</p>\n",
       "</div>"
      ],
      "text/plain": [
       "             ASN      TTL  hex_32  hex_8  Alexa_Rank  subdomain   len  oc_32  \\\n",
       "0        15169.0     46.0     0.0    0.0         1.0        0.0   7.0    0.0   \n",
       "1            NaN    299.0     0.0    0.0         1.0        0.0   7.0    0.0   \n",
       "2            NaN     38.0     0.0    0.0         1.0        1.0  10.0    0.0   \n",
       "3        15169.0    299.0     0.0    0.0         NaN        1.0  10.0    0.0   \n",
       "4            NaN     96.0     0.0    0.0         4.0        0.0   9.0    0.0   \n",
       "...          ...      ...     ...    ...         ...        ...   ...    ...   \n",
       "499129   24940.0  14399.0     0.0    0.0         NaN        0.0  17.0    0.0   \n",
       "499130  204915.0   3599.0     0.0    0.0      3851.0        1.0  32.0    0.0   \n",
       "499131       NaN   3599.0     0.0    0.0      3851.0        1.0  32.0    0.0   \n",
       "499132    8767.0   1799.0     0.0    0.0        -1.0        0.0  18.0    0.0   \n",
       "499133    8767.0   1799.0     0.0    0.0   5004230.0        1.0  11.0    0.0   \n",
       "\n",
       "        shortened  obfuscate_at_sign  ...  Domain_Age  dec_8  dec_32  \\\n",
       "0            -1.0                0.0  ...      8256.0    0.0     0.0   \n",
       "1            -1.0                0.0  ...      8256.0    0.0     0.0   \n",
       "2            -1.0                0.0  ...      8256.0    0.0     0.0   \n",
       "3            -1.0                0.0  ...         NaN    0.0     0.0   \n",
       "4            -1.0                0.0  ...      8426.0    0.0     0.0   \n",
       "...           ...                ...  ...         ...    ...     ...   \n",
       "499129       -1.0                0.0  ...         NaN    0.0     0.0   \n",
       "499130       -1.0                0.0  ...      1440.0    0.0     0.0   \n",
       "499131       -1.0                0.0  ...      1440.0    0.0     0.0   \n",
       "499132       -1.0                0.0  ...         NaN    0.0     0.0   \n",
       "499133       -1.0                0.0  ...         NaN    0.0     0.0   \n",
       "\n",
       "        numeric_percentage  puny_coded  oc_8  Name_Server_Count  Page_Rank  \\\n",
       "0                 0.000000         0.0   0.0                8.0       -1.0   \n",
       "1                 0.000000         0.0   0.0                8.0       -1.0   \n",
       "2                 0.000000         0.0   0.0                4.0       -1.0   \n",
       "3                 0.000000         0.0   0.0                NaN        NaN   \n",
       "4                 0.000000         0.0   0.0                4.0       -1.0   \n",
       "...                    ...         ...   ...                ...        ...   \n",
       "499129            0.000000         0.0   0.0                NaN        NaN   \n",
       "499130            7.894737         0.0   0.0                4.0       -1.0   \n",
       "499131            7.894737         0.0   0.0                4.0       -1.0   \n",
       "499132            0.000000         0.0   0.0                0.0       -1.0   \n",
       "499133            0.000000         0.0   0.0                0.0       -1.0   \n",
       "\n",
       "          Year  Month  \n",
       "0       1997.0    9.0  \n",
       "1       1997.0    9.0  \n",
       "2       1997.0    9.0  \n",
       "3          NaN    NaN  \n",
       "4       1997.0    3.0  \n",
       "...        ...    ...  \n",
       "499129     NaN    NaN  \n",
       "499130  2016.0    5.0  \n",
       "499131  2016.0    5.0  \n",
       "499132     NaN    NaN  \n",
       "499133     NaN    NaN  \n",
       "\n",
       "[499134 rows x 21 columns]"
      ]
     },
     "execution_count": 8,
     "metadata": {},
     "output_type": "execute_result"
    }
   ],
   "source": [
    "X[num_col]"
   ]
  },
  {
   "cell_type": "markdown",
   "id": "ded5d31b-0370-44b0-9ccf-e3c143ed9144",
   "metadata": {},
   "source": [
    "## Numerical and categorical transformation data pipeline"
   ]
  },
  {
   "cell_type": "markdown",
   "id": "d6ae88d1-2205-43ae-bcb0-643841f72fda",
   "metadata": {},
   "source": [
    "### Pipeline 1 (no class weights)"
   ]
  },
  {
   "cell_type": "markdown",
   "id": "f7f84faa-202f-4c3e-a6f0-8b90dc486396",
   "metadata": {},
   "source": [
    "Create numerical and categorical transformation data pipeline"
   ]
  },
  {
   "cell_type": "code",
   "execution_count": 88,
   "id": "b3e20d43-6b81-40b0-ba30-37b90c857897",
   "metadata": {},
   "outputs": [],
   "source": [
    "numeric_transformer = Pipeline(steps=[\n",
    "   ('imputer', KNNImputer(n_neighbors=2, weights=\"uniform\"))])\n",
    "\n",
    "categorical_transformer = Pipeline(steps=[\n",
    "   ('imputer', SimpleImputer(strategy='most_frequent')),\n",
    "   ('targetencoder', TargetEncoder())])"
   ]
  },
  {
   "cell_type": "markdown",
   "id": "d071fee4-cfa6-49c6-a0d4-6c1b3a2acc8f",
   "metadata": {},
   "source": [
    "Process and transform the training feature using ColumnTransformer"
   ]
  },
  {
   "cell_type": "code",
   "execution_count": 89,
   "id": "d590f62f-d246-4f3c-a285-8fe11c46aeab",
   "metadata": {},
   "outputs": [],
   "source": [
    "preprocessor = ColumnTransformer(\n",
    "   remainder = 'passthrough',\n",
    "   transformers=[\n",
    "       ('numeric', numeric_transformer, num_col),\n",
    "       ('categorical', categorical_transformer, cat_col)\n",
    "])"
   ]
  },
  {
   "cell_type": "markdown",
   "id": "e804f001-4518-4a63-9c48-5d4e421c81dc",
   "metadata": {},
   "source": [
    "Create pipeline"
   ]
  },
  {
   "cell_type": "code",
   "execution_count": 90,
   "id": "1df1581d-a8f2-4b02-b819-53ad64789bc1",
   "metadata": {},
   "outputs": [],
   "source": [
    "transform = Pipeline(\n",
    "   steps=[\n",
    "       (\"processing\", preprocessor),\n",
    "       ('scaler', StandardScaler()),  # Define a Standard Scaler to normalize inputs\n",
    "       ('feature_selection', SelectKBest(k=10)), # Create a feature selection method (e.g., SelectKBest)\n",
    "       ('pca', PCA(n_components=3)),  # Dimensionality reduction with PCA\n",
    "       (\"DecisionTreeClassifier\", DecisionTreeClassifier())\n",
    "   ]\n",
    ")"
   ]
  },
  {
   "cell_type": "code",
   "execution_count": 92,
   "id": "fc38ca0a-171c-460f-ad11-36277b1bc6a1",
   "metadata": {},
   "outputs": [
    {
     "data": {
      "text/html": [
       "<style>#sk-container-id-4 {color: black;}#sk-container-id-4 pre{padding: 0;}#sk-container-id-4 div.sk-toggleable {background-color: white;}#sk-container-id-4 label.sk-toggleable__label {cursor: pointer;display: block;width: 100%;margin-bottom: 0;padding: 0.3em;box-sizing: border-box;text-align: center;}#sk-container-id-4 label.sk-toggleable__label-arrow:before {content: \"▸\";float: left;margin-right: 0.25em;color: #696969;}#sk-container-id-4 label.sk-toggleable__label-arrow:hover:before {color: black;}#sk-container-id-4 div.sk-estimator:hover label.sk-toggleable__label-arrow:before {color: black;}#sk-container-id-4 div.sk-toggleable__content {max-height: 0;max-width: 0;overflow: hidden;text-align: left;background-color: #f0f8ff;}#sk-container-id-4 div.sk-toggleable__content pre {margin: 0.2em;color: black;border-radius: 0.25em;background-color: #f0f8ff;}#sk-container-id-4 input.sk-toggleable__control:checked~div.sk-toggleable__content {max-height: 200px;max-width: 100%;overflow: auto;}#sk-container-id-4 input.sk-toggleable__control:checked~label.sk-toggleable__label-arrow:before {content: \"▾\";}#sk-container-id-4 div.sk-estimator input.sk-toggleable__control:checked~label.sk-toggleable__label {background-color: #d4ebff;}#sk-container-id-4 div.sk-label input.sk-toggleable__control:checked~label.sk-toggleable__label {background-color: #d4ebff;}#sk-container-id-4 input.sk-hidden--visually {border: 0;clip: rect(1px 1px 1px 1px);clip: rect(1px, 1px, 1px, 1px);height: 1px;margin: -1px;overflow: hidden;padding: 0;position: absolute;width: 1px;}#sk-container-id-4 div.sk-estimator {font-family: monospace;background-color: #f0f8ff;border: 1px dotted black;border-radius: 0.25em;box-sizing: border-box;margin-bottom: 0.5em;}#sk-container-id-4 div.sk-estimator:hover {background-color: #d4ebff;}#sk-container-id-4 div.sk-parallel-item::after {content: \"\";width: 100%;border-bottom: 1px solid gray;flex-grow: 1;}#sk-container-id-4 div.sk-label:hover label.sk-toggleable__label {background-color: #d4ebff;}#sk-container-id-4 div.sk-serial::before {content: \"\";position: absolute;border-left: 1px solid gray;box-sizing: border-box;top: 0;bottom: 0;left: 50%;z-index: 0;}#sk-container-id-4 div.sk-serial {display: flex;flex-direction: column;align-items: center;background-color: white;padding-right: 0.2em;padding-left: 0.2em;position: relative;}#sk-container-id-4 div.sk-item {position: relative;z-index: 1;}#sk-container-id-4 div.sk-parallel {display: flex;align-items: stretch;justify-content: center;background-color: white;position: relative;}#sk-container-id-4 div.sk-item::before, #sk-container-id-4 div.sk-parallel-item::before {content: \"\";position: absolute;border-left: 1px solid gray;box-sizing: border-box;top: 0;bottom: 0;left: 50%;z-index: -1;}#sk-container-id-4 div.sk-parallel-item {display: flex;flex-direction: column;z-index: 1;position: relative;background-color: white;}#sk-container-id-4 div.sk-parallel-item:first-child::after {align-self: flex-end;width: 50%;}#sk-container-id-4 div.sk-parallel-item:last-child::after {align-self: flex-start;width: 50%;}#sk-container-id-4 div.sk-parallel-item:only-child::after {width: 0;}#sk-container-id-4 div.sk-dashed-wrapped {border: 1px dashed gray;margin: 0 0.4em 0.5em 0.4em;box-sizing: border-box;padding-bottom: 0.4em;background-color: white;}#sk-container-id-4 div.sk-label label {font-family: monospace;font-weight: bold;display: inline-block;line-height: 1.2em;}#sk-container-id-4 div.sk-label-container {text-align: center;}#sk-container-id-4 div.sk-container {/* jupyter's `normalize.less` sets `[hidden] { display: none; }` but bootstrap.min.css set `[hidden] { display: none !important; }` so we also need the `!important` here to be able to override the default hidden behavior on the sphinx rendered scikit-learn.org. See: https://github.com/scikit-learn/scikit-learn/issues/21755 */display: inline-block !important;position: relative;}#sk-container-id-4 div.sk-text-repr-fallback {display: none;}</style><div id=\"sk-container-id-4\" class=\"sk-top-container\"><div class=\"sk-text-repr-fallback\"><pre>Pipeline(steps=[(&#x27;processing&#x27;,\n",
       "                 ColumnTransformer(remainder=&#x27;passthrough&#x27;,\n",
       "                                   transformers=[(&#x27;numeric&#x27;,\n",
       "                                                  Pipeline(steps=[(&#x27;imputer&#x27;,\n",
       "                                                                   KNNImputer(n_neighbors=2))]),\n",
       "                                                  Index([&#x27;ASN&#x27;, &#x27;TTL&#x27;, &#x27;hex_32&#x27;, &#x27;hex_8&#x27;, &#x27;Alexa_Rank&#x27;, &#x27;subdomain&#x27;, &#x27;len&#x27;,\n",
       "       &#x27;oc_32&#x27;, &#x27;shortened&#x27;, &#x27;obfuscate_at_sign&#x27;, &#x27;entropy&#x27;, &#x27;Domain_Age&#x27;,\n",
       "       &#x27;dec_8&#x27;, &#x27;dec_32&#x27;, &#x27;numeric_percentage&#x27;, &#x27;puny_coded&#x27;, &#x27;oc_8&#x27;,\n",
       "       &#x27;Name_Ser...\n",
       "                                                                   TargetEncoder())]),\n",
       "                                                  Index([&#x27;Country&#x27;, &#x27;IP&#x27;, &#x27;Domain&#x27;, &#x27;State&#x27;, &#x27;Country.1&#x27;, &#x27;Domain_Name&#x27;,\n",
       "       &#x27;Organization&#x27;, &#x27;longest_word&#x27;, &#x27;1gram&#x27;, &#x27;tld&#x27;, &#x27;Emails&#x27;, &#x27;typos&#x27;,\n",
       "       &#x27;3gram&#x27;, &#x27;char_distribution&#x27;, &#x27;2gram&#x27;, &#x27;Registrar&#x27;, &#x27;sld&#x27;],\n",
       "      dtype=&#x27;object&#x27;))])),\n",
       "                (&#x27;scaler&#x27;, StandardScaler()),\n",
       "                (&#x27;feature_selection&#x27;, SelectKBest()),\n",
       "                (&#x27;pca&#x27;, PCA(n_components=3)),\n",
       "                (&#x27;DecisionTreeClassifier&#x27;, DecisionTreeClassifier())])</pre><b>In a Jupyter environment, please rerun this cell to show the HTML representation or trust the notebook. <br />On GitHub, the HTML representation is unable to render, please try loading this page with nbviewer.org.</b></div><div class=\"sk-container\" hidden><div class=\"sk-item sk-dashed-wrapped\"><div class=\"sk-label-container\"><div class=\"sk-label sk-toggleable\"><input class=\"sk-toggleable__control sk-hidden--visually\" id=\"sk-estimator-id-41\" type=\"checkbox\" ><label for=\"sk-estimator-id-41\" class=\"sk-toggleable__label sk-toggleable__label-arrow\">Pipeline</label><div class=\"sk-toggleable__content\"><pre>Pipeline(steps=[(&#x27;processing&#x27;,\n",
       "                 ColumnTransformer(remainder=&#x27;passthrough&#x27;,\n",
       "                                   transformers=[(&#x27;numeric&#x27;,\n",
       "                                                  Pipeline(steps=[(&#x27;imputer&#x27;,\n",
       "                                                                   KNNImputer(n_neighbors=2))]),\n",
       "                                                  Index([&#x27;ASN&#x27;, &#x27;TTL&#x27;, &#x27;hex_32&#x27;, &#x27;hex_8&#x27;, &#x27;Alexa_Rank&#x27;, &#x27;subdomain&#x27;, &#x27;len&#x27;,\n",
       "       &#x27;oc_32&#x27;, &#x27;shortened&#x27;, &#x27;obfuscate_at_sign&#x27;, &#x27;entropy&#x27;, &#x27;Domain_Age&#x27;,\n",
       "       &#x27;dec_8&#x27;, &#x27;dec_32&#x27;, &#x27;numeric_percentage&#x27;, &#x27;puny_coded&#x27;, &#x27;oc_8&#x27;,\n",
       "       &#x27;Name_Ser...\n",
       "                                                                   TargetEncoder())]),\n",
       "                                                  Index([&#x27;Country&#x27;, &#x27;IP&#x27;, &#x27;Domain&#x27;, &#x27;State&#x27;, &#x27;Country.1&#x27;, &#x27;Domain_Name&#x27;,\n",
       "       &#x27;Organization&#x27;, &#x27;longest_word&#x27;, &#x27;1gram&#x27;, &#x27;tld&#x27;, &#x27;Emails&#x27;, &#x27;typos&#x27;,\n",
       "       &#x27;3gram&#x27;, &#x27;char_distribution&#x27;, &#x27;2gram&#x27;, &#x27;Registrar&#x27;, &#x27;sld&#x27;],\n",
       "      dtype=&#x27;object&#x27;))])),\n",
       "                (&#x27;scaler&#x27;, StandardScaler()),\n",
       "                (&#x27;feature_selection&#x27;, SelectKBest()),\n",
       "                (&#x27;pca&#x27;, PCA(n_components=3)),\n",
       "                (&#x27;DecisionTreeClassifier&#x27;, DecisionTreeClassifier())])</pre></div></div></div><div class=\"sk-serial\"><div class=\"sk-item sk-dashed-wrapped\"><div class=\"sk-label-container\"><div class=\"sk-label sk-toggleable\"><input class=\"sk-toggleable__control sk-hidden--visually\" id=\"sk-estimator-id-42\" type=\"checkbox\" ><label for=\"sk-estimator-id-42\" class=\"sk-toggleable__label sk-toggleable__label-arrow\">processing: ColumnTransformer</label><div class=\"sk-toggleable__content\"><pre>ColumnTransformer(remainder=&#x27;passthrough&#x27;,\n",
       "                  transformers=[(&#x27;numeric&#x27;,\n",
       "                                 Pipeline(steps=[(&#x27;imputer&#x27;,\n",
       "                                                  KNNImputer(n_neighbors=2))]),\n",
       "                                 Index([&#x27;ASN&#x27;, &#x27;TTL&#x27;, &#x27;hex_32&#x27;, &#x27;hex_8&#x27;, &#x27;Alexa_Rank&#x27;, &#x27;subdomain&#x27;, &#x27;len&#x27;,\n",
       "       &#x27;oc_32&#x27;, &#x27;shortened&#x27;, &#x27;obfuscate_at_sign&#x27;, &#x27;entropy&#x27;, &#x27;Domain_Age&#x27;,\n",
       "       &#x27;dec_8&#x27;, &#x27;dec_32&#x27;, &#x27;numeric_percentage&#x27;, &#x27;puny_coded&#x27;, &#x27;oc_8&#x27;,\n",
       "       &#x27;Name_Server_Count&#x27;, &#x27;Page_Rank&#x27;, &#x27;Year&#x27;, &#x27;Month&#x27;],\n",
       "      dtype=&#x27;object&#x27;)),\n",
       "                                (&#x27;categorical&#x27;,\n",
       "                                 Pipeline(steps=[(&#x27;imputer&#x27;,\n",
       "                                                  SimpleImputer(strategy=&#x27;most_frequent&#x27;)),\n",
       "                                                 (&#x27;targetencoder&#x27;,\n",
       "                                                  TargetEncoder())]),\n",
       "                                 Index([&#x27;Country&#x27;, &#x27;IP&#x27;, &#x27;Domain&#x27;, &#x27;State&#x27;, &#x27;Country.1&#x27;, &#x27;Domain_Name&#x27;,\n",
       "       &#x27;Organization&#x27;, &#x27;longest_word&#x27;, &#x27;1gram&#x27;, &#x27;tld&#x27;, &#x27;Emails&#x27;, &#x27;typos&#x27;,\n",
       "       &#x27;3gram&#x27;, &#x27;char_distribution&#x27;, &#x27;2gram&#x27;, &#x27;Registrar&#x27;, &#x27;sld&#x27;],\n",
       "      dtype=&#x27;object&#x27;))])</pre></div></div></div><div class=\"sk-parallel\"><div class=\"sk-parallel-item\"><div class=\"sk-item\"><div class=\"sk-label-container\"><div class=\"sk-label sk-toggleable\"><input class=\"sk-toggleable__control sk-hidden--visually\" id=\"sk-estimator-id-43\" type=\"checkbox\" ><label for=\"sk-estimator-id-43\" class=\"sk-toggleable__label sk-toggleable__label-arrow\">numeric</label><div class=\"sk-toggleable__content\"><pre>Index([&#x27;ASN&#x27;, &#x27;TTL&#x27;, &#x27;hex_32&#x27;, &#x27;hex_8&#x27;, &#x27;Alexa_Rank&#x27;, &#x27;subdomain&#x27;, &#x27;len&#x27;,\n",
       "       &#x27;oc_32&#x27;, &#x27;shortened&#x27;, &#x27;obfuscate_at_sign&#x27;, &#x27;entropy&#x27;, &#x27;Domain_Age&#x27;,\n",
       "       &#x27;dec_8&#x27;, &#x27;dec_32&#x27;, &#x27;numeric_percentage&#x27;, &#x27;puny_coded&#x27;, &#x27;oc_8&#x27;,\n",
       "       &#x27;Name_Server_Count&#x27;, &#x27;Page_Rank&#x27;, &#x27;Year&#x27;, &#x27;Month&#x27;],\n",
       "      dtype=&#x27;object&#x27;)</pre></div></div></div><div class=\"sk-serial\"><div class=\"sk-item\"><div class=\"sk-serial\"><div class=\"sk-item\"><div class=\"sk-estimator sk-toggleable\"><input class=\"sk-toggleable__control sk-hidden--visually\" id=\"sk-estimator-id-44\" type=\"checkbox\" ><label for=\"sk-estimator-id-44\" class=\"sk-toggleable__label sk-toggleable__label-arrow\">KNNImputer</label><div class=\"sk-toggleable__content\"><pre>KNNImputer(n_neighbors=2)</pre></div></div></div></div></div></div></div></div><div class=\"sk-parallel-item\"><div class=\"sk-item\"><div class=\"sk-label-container\"><div class=\"sk-label sk-toggleable\"><input class=\"sk-toggleable__control sk-hidden--visually\" id=\"sk-estimator-id-45\" type=\"checkbox\" ><label for=\"sk-estimator-id-45\" class=\"sk-toggleable__label sk-toggleable__label-arrow\">categorical</label><div class=\"sk-toggleable__content\"><pre>Index([&#x27;Country&#x27;, &#x27;IP&#x27;, &#x27;Domain&#x27;, &#x27;State&#x27;, &#x27;Country.1&#x27;, &#x27;Domain_Name&#x27;,\n",
       "       &#x27;Organization&#x27;, &#x27;longest_word&#x27;, &#x27;1gram&#x27;, &#x27;tld&#x27;, &#x27;Emails&#x27;, &#x27;typos&#x27;,\n",
       "       &#x27;3gram&#x27;, &#x27;char_distribution&#x27;, &#x27;2gram&#x27;, &#x27;Registrar&#x27;, &#x27;sld&#x27;],\n",
       "      dtype=&#x27;object&#x27;)</pre></div></div></div><div class=\"sk-serial\"><div class=\"sk-item\"><div class=\"sk-serial\"><div class=\"sk-item\"><div class=\"sk-estimator sk-toggleable\"><input class=\"sk-toggleable__control sk-hidden--visually\" id=\"sk-estimator-id-46\" type=\"checkbox\" ><label for=\"sk-estimator-id-46\" class=\"sk-toggleable__label sk-toggleable__label-arrow\">SimpleImputer</label><div class=\"sk-toggleable__content\"><pre>SimpleImputer(strategy=&#x27;most_frequent&#x27;)</pre></div></div></div><div class=\"sk-item\"><div class=\"sk-estimator sk-toggleable\"><input class=\"sk-toggleable__control sk-hidden--visually\" id=\"sk-estimator-id-47\" type=\"checkbox\" ><label for=\"sk-estimator-id-47\" class=\"sk-toggleable__label sk-toggleable__label-arrow\">TargetEncoder</label><div class=\"sk-toggleable__content\"><pre>TargetEncoder()</pre></div></div></div></div></div></div></div></div><div class=\"sk-parallel-item\"><div class=\"sk-item\"><div class=\"sk-label-container\"><div class=\"sk-label sk-toggleable\"><input class=\"sk-toggleable__control sk-hidden--visually\" id=\"sk-estimator-id-48\" type=\"checkbox\" ><label for=\"sk-estimator-id-48\" class=\"sk-toggleable__label sk-toggleable__label-arrow\">remainder</label><div class=\"sk-toggleable__content\"><pre></pre></div></div></div><div class=\"sk-serial\"><div class=\"sk-item\"><div class=\"sk-estimator sk-toggleable\"><input class=\"sk-toggleable__control sk-hidden--visually\" id=\"sk-estimator-id-49\" type=\"checkbox\" ><label for=\"sk-estimator-id-49\" class=\"sk-toggleable__label sk-toggleable__label-arrow\">passthrough</label><div class=\"sk-toggleable__content\"><pre>passthrough</pre></div></div></div></div></div></div></div></div><div class=\"sk-item\"><div class=\"sk-estimator sk-toggleable\"><input class=\"sk-toggleable__control sk-hidden--visually\" id=\"sk-estimator-id-50\" type=\"checkbox\" ><label for=\"sk-estimator-id-50\" class=\"sk-toggleable__label sk-toggleable__label-arrow\">StandardScaler</label><div class=\"sk-toggleable__content\"><pre>StandardScaler()</pre></div></div></div><div class=\"sk-item\"><div class=\"sk-estimator sk-toggleable\"><input class=\"sk-toggleable__control sk-hidden--visually\" id=\"sk-estimator-id-51\" type=\"checkbox\" ><label for=\"sk-estimator-id-51\" class=\"sk-toggleable__label sk-toggleable__label-arrow\">SelectKBest</label><div class=\"sk-toggleable__content\"><pre>SelectKBest()</pre></div></div></div><div class=\"sk-item\"><div class=\"sk-estimator sk-toggleable\"><input class=\"sk-toggleable__control sk-hidden--visually\" id=\"sk-estimator-id-52\" type=\"checkbox\" ><label for=\"sk-estimator-id-52\" class=\"sk-toggleable__label sk-toggleable__label-arrow\">PCA</label><div class=\"sk-toggleable__content\"><pre>PCA(n_components=3)</pre></div></div></div><div class=\"sk-item\"><div class=\"sk-estimator sk-toggleable\"><input class=\"sk-toggleable__control sk-hidden--visually\" id=\"sk-estimator-id-53\" type=\"checkbox\" ><label for=\"sk-estimator-id-53\" class=\"sk-toggleable__label sk-toggleable__label-arrow\">DecisionTreeClassifier</label><div class=\"sk-toggleable__content\"><pre>DecisionTreeClassifier()</pre></div></div></div></div></div></div></div>"
      ],
      "text/plain": [
       "Pipeline(steps=[('processing',\n",
       "                 ColumnTransformer(remainder='passthrough',\n",
       "                                   transformers=[('numeric',\n",
       "                                                  Pipeline(steps=[('imputer',\n",
       "                                                                   KNNImputer(n_neighbors=2))]),\n",
       "                                                  Index(['ASN', 'TTL', 'hex_32', 'hex_8', 'Alexa_Rank', 'subdomain', 'len',\n",
       "       'oc_32', 'shortened', 'obfuscate_at_sign', 'entropy', 'Domain_Age',\n",
       "       'dec_8', 'dec_32', 'numeric_percentage', 'puny_coded', 'oc_8',\n",
       "       'Name_Ser...\n",
       "                                                                   TargetEncoder())]),\n",
       "                                                  Index(['Country', 'IP', 'Domain', 'State', 'Country.1', 'Domain_Name',\n",
       "       'Organization', 'longest_word', '1gram', 'tld', 'Emails', 'typos',\n",
       "       '3gram', 'char_distribution', '2gram', 'Registrar', 'sld'],\n",
       "      dtype='object'))])),\n",
       "                ('scaler', StandardScaler()),\n",
       "                ('feature_selection', SelectKBest()),\n",
       "                ('pca', PCA(n_components=3)),\n",
       "                ('DecisionTreeClassifier', DecisionTreeClassifier())])"
      ]
     },
     "execution_count": 92,
     "metadata": {},
     "output_type": "execute_result"
    }
   ],
   "source": [
    "transform"
   ]
  },
  {
   "cell_type": "code",
   "execution_count": 93,
   "id": "da842ee6-411b-4c79-b5b4-7dfd2f4a222e",
   "metadata": {
    "tags": []
   },
   "outputs": [
    {
     "name": "stderr",
     "output_type": "stream",
     "text": [
      "/opt/anaconda3/envs/domain-classifier/lib/python3.11/site-packages/sklearn/feature_selection/_univariate_selection.py:112: UserWarning: Features [ 2  3 12 16] are constant.\n",
      "  warnings.warn(\"Features %s are constant.\" % constant_features_idx, UserWarning)\n",
      "/opt/anaconda3/envs/domain-classifier/lib/python3.11/site-packages/sklearn/feature_selection/_univariate_selection.py:113: RuntimeWarning: invalid value encountered in divide\n",
      "  f = msb / msw\n"
     ]
    }
   ],
   "source": [
    "model1 = transform.fit(X_train[:10000],y_train[:10000])"
   ]
  },
  {
   "cell_type": "markdown",
   "id": "db79717b-956a-489b-ad26-680cf09e672e",
   "metadata": {},
   "source": [
    "Generate predictions"
   ]
  },
  {
   "cell_type": "code",
   "execution_count": 94,
   "id": "df3798aa-7039-4f8b-9d04-da48e3252a33",
   "metadata": {},
   "outputs": [],
   "source": [
    "y_pred = model1.predict(X_test)"
   ]
  },
  {
   "cell_type": "markdown",
   "id": "8b450ddd-b990-47a1-bd1d-eb333dfdfa2f",
   "metadata": {},
   "source": [
    "Model evaluation and performance"
   ]
  },
  {
   "cell_type": "code",
   "execution_count": 36,
   "id": "efb453a6-88c8-4fe5-94ff-9bffd6657850",
   "metadata": {},
   "outputs": [],
   "source": [
    "from sklearn.metrics import confusion_matrix, classification_report\n",
    "import seaborn as sns"
   ]
  },
  {
   "cell_type": "code",
   "execution_count": 95,
   "id": "d0c50dd1-8e43-4eaf-a761-decf9850b717",
   "metadata": {},
   "outputs": [
    {
     "name": "stdout",
     "output_type": "stream",
     "text": [
      "              precision    recall  f1-score   support\n",
      "\n",
      "           0       0.99      1.00      1.00     98837\n",
      "           1       0.73      0.21      0.32       990\n",
      "\n",
      "    accuracy                           0.99     99827\n",
      "   macro avg       0.86      0.60      0.66     99827\n",
      "weighted avg       0.99      0.99      0.99     99827\n",
      "\n"
     ]
    }
   ],
   "source": [
    "# Generate a classification report\n",
    "report = classification_report(y_test, y_pred)\n",
    "print(report)"
   ]
  },
  {
   "cell_type": "code",
   "execution_count": 96,
   "id": "7c12a16d-969a-4ef3-8bb6-33662e2977e2",
   "metadata": {},
   "outputs": [
    {
     "data": {
      "image/png": "[encoded data removed]",
      "text/plain": [
       "<Figure size 500x400 with 2 Axes>"
      ]
     },
     "metadata": {},
     "output_type": "display_data"
    }
   ],
   "source": [
    "# Generate a confusion matrix\n",
    "cm = confusion_matrix(y_test, y_pred)\n",
    "\n",
    "# Vizualize the confusion matrix\n",
    "fig, ax = plt.subplots(figsize=(5,4))\n",
    "sns.heatmap(cm, annot=True, fmt='g', ax=ax)\n",
    "\n",
    "# Set the axis labels and title\n",
    "plt.xlabel('Predicted')\n",
    "plt.ylabel('Actual')\n",
    "plt.title('Confusion matrix', y=1.05, fontsize = 11);"
   ]
  },
  {
   "cell_type": "markdown",
   "id": "c1f3a9f9-6430-44a1-832f-886b54b973aa",
   "metadata": {},
   "source": [
    "### Pipeline 2 (class imbalance addressed)"
   ]
  },
  {
   "cell_type": "markdown",
   "id": "d57907b7-149c-4728-ab2f-aa182cc5fef4",
   "metadata": {},
   "source": [
    "Create numerical and categorical transformation data pipeline"
   ]
  },
  {
   "cell_type": "code",
   "execution_count": 97,
   "id": "49f4f80a-c022-4762-b710-a8e0d6f89e50",
   "metadata": {},
   "outputs": [],
   "source": [
    "numeric_transformer = Pipeline(steps=[\n",
    "   ('imputer', KNNImputer(n_neighbors=2, weights=\"uniform\"))])\n",
    "\n",
    "categorical_transformer = Pipeline(steps=[\n",
    "   ('imputer', SimpleImputer(strategy='most_frequent')),\n",
    "   ('targetencoder', TargetEncoder())])"
   ]
  },
  {
   "cell_type": "code",
   "execution_count": 110,
   "id": "8fa5deb4-6c5c-4ce1-8c2d-76a2edd59645",
   "metadata": {},
   "outputs": [
    {
     "data": {
      "text/plain": [
       "{0: 0.5050708579350263, 1: 49.80132202544275}"
      ]
     },
     "execution_count": 110,
     "metadata": {},
     "output_type": "execute_result"
    }
   ],
   "source": [
    "# Calculate class weights\n",
    "class_weights = class_weight.compute_class_weight(\n",
    "                                        class_weight = \"balanced\",\n",
    "                                        classes = np.unique(y_train),\n",
    "                                        y = y_train                                                   \n",
    "                                    )\n",
    "class_weights = dict(zip(np.unique(y_train), class_weights))\n",
    "class_weights"
   ]
  },
  {
   "cell_type": "markdown",
   "id": "f381125f-dff4-450f-881d-00e2ef33694c",
   "metadata": {},
   "source": [
    "Process and transform the training feature using ColumnTransformer"
   ]
  },
  {
   "cell_type": "code",
   "execution_count": 98,
   "id": "4b86520e-0c27-4e48-87af-b310c07f24e4",
   "metadata": {},
   "outputs": [],
   "source": [
    "preprocessor = ColumnTransformer(\n",
    "   remainder = 'passthrough',\n",
    "   transformers=[\n",
    "       ('numeric', numeric_transformer, num_col),\n",
    "       ('categorical', categorical_transformer, cat_col)\n",
    "])"
   ]
  },
  {
   "cell_type": "markdown",
   "id": "22990b2c-13e2-4eda-a0c9-4c2f15265bcc",
   "metadata": {},
   "source": [
    "Create pipeline"
   ]
  },
  {
   "cell_type": "code",
   "execution_count": 111,
   "id": "79378f3e-f904-4462-b015-e90a8aa5c580",
   "metadata": {},
   "outputs": [],
   "source": [
    "transform = Pipeline(\n",
    "   steps=[\n",
    "       (\"processing\", preprocessor),\n",
    "       ('scaler', StandardScaler()),  # Define a Standard Scaler to normalize inputs\n",
    "       ('feature_selection', SelectKBest(k=10)), # Create a feature selection method (e.g., SelectKBest)\n",
    "       ('pca', PCA(n_components=3)),  # Dimensionality reduction with PCA\n",
    "       (\"DecisionTreeClassifier\", DecisionTreeClassifier(class_weight=class_weights))\n",
    "   ]\n",
    ")"
   ]
  },
  {
   "cell_type": "code",
   "execution_count": 112,
   "id": "f9054c90-1677-44d3-8335-61ebffd733b2",
   "metadata": {},
   "outputs": [
    {
     "data": {
      "text/html": [
       "<style>#sk-container-id-5 {color: black;}#sk-container-id-5 pre{padding: 0;}#sk-container-id-5 div.sk-toggleable {background-color: white;}#sk-container-id-5 label.sk-toggleable__label {cursor: pointer;display: block;width: 100%;margin-bottom: 0;padding: 0.3em;box-sizing: border-box;text-align: center;}#sk-container-id-5 label.sk-toggleable__label-arrow:before {content: \"▸\";float: left;margin-right: 0.25em;color: #696969;}#sk-container-id-5 label.sk-toggleable__label-arrow:hover:before {color: black;}#sk-container-id-5 div.sk-estimator:hover label.sk-toggleable__label-arrow:before {color: black;}#sk-container-id-5 div.sk-toggleable__content {max-height: 0;max-width: 0;overflow: hidden;text-align: left;background-color: #f0f8ff;}#sk-container-id-5 div.sk-toggleable__content pre {margin: 0.2em;color: black;border-radius: 0.25em;background-color: #f0f8ff;}#sk-container-id-5 input.sk-toggleable__control:checked~div.sk-toggleable__content {max-height: 200px;max-width: 100%;overflow: auto;}#sk-container-id-5 input.sk-toggleable__control:checked~label.sk-toggleable__label-arrow:before {content: \"▾\";}#sk-container-id-5 div.sk-estimator input.sk-toggleable__control:checked~label.sk-toggleable__label {background-color: #d4ebff;}#sk-container-id-5 div.sk-label input.sk-toggleable__control:checked~label.sk-toggleable__label {background-color: #d4ebff;}#sk-container-id-5 input.sk-hidden--visually {border: 0;clip: rect(1px 1px 1px 1px);clip: rect(1px, 1px, 1px, 1px);height: 1px;margin: -1px;overflow: hidden;padding: 0;position: absolute;width: 1px;}#sk-container-id-5 div.sk-estimator {font-family: monospace;background-color: #f0f8ff;border: 1px dotted black;border-radius: 0.25em;box-sizing: border-box;margin-bottom: 0.5em;}#sk-container-id-5 div.sk-estimator:hover {background-color: #d4ebff;}#sk-container-id-5 div.sk-parallel-item::after {content: \"\";width: 100%;border-bottom: 1px solid gray;flex-grow: 1;}#sk-container-id-5 div.sk-label:hover label.sk-toggleable__label {background-color: #d4ebff;}#sk-container-id-5 div.sk-serial::before {content: \"\";position: absolute;border-left: 1px solid gray;box-sizing: border-box;top: 0;bottom: 0;left: 50%;z-index: 0;}#sk-container-id-5 div.sk-serial {display: flex;flex-direction: column;align-items: center;background-color: white;padding-right: 0.2em;padding-left: 0.2em;position: relative;}#sk-container-id-5 div.sk-item {position: relative;z-index: 1;}#sk-container-id-5 div.sk-parallel {display: flex;align-items: stretch;justify-content: center;background-color: white;position: relative;}#sk-container-id-5 div.sk-item::before, #sk-container-id-5 div.sk-parallel-item::before {content: \"\";position: absolute;border-left: 1px solid gray;box-sizing: border-box;top: 0;bottom: 0;left: 50%;z-index: -1;}#sk-container-id-5 div.sk-parallel-item {display: flex;flex-direction: column;z-index: 1;position: relative;background-color: white;}#sk-container-id-5 div.sk-parallel-item:first-child::after {align-self: flex-end;width: 50%;}#sk-container-id-5 div.sk-parallel-item:last-child::after {align-self: flex-start;width: 50%;}#sk-container-id-5 div.sk-parallel-item:only-child::after {width: 0;}#sk-container-id-5 div.sk-dashed-wrapped {border: 1px dashed gray;margin: 0 0.4em 0.5em 0.4em;box-sizing: border-box;padding-bottom: 0.4em;background-color: white;}#sk-container-id-5 div.sk-label label {font-family: monospace;font-weight: bold;display: inline-block;line-height: 1.2em;}#sk-container-id-5 div.sk-label-container {text-align: center;}#sk-container-id-5 div.sk-container {/* jupyter's `normalize.less` sets `[hidden] { display: none; }` but bootstrap.min.css set `[hidden] { display: none !important; }` so we also need the `!important` here to be able to override the default hidden behavior on the sphinx rendered scikit-learn.org. See: https://github.com/scikit-learn/scikit-learn/issues/21755 */display: inline-block !important;position: relative;}#sk-container-id-5 div.sk-text-repr-fallback {display: none;}</style><div id=\"sk-container-id-5\" class=\"sk-top-container\"><div class=\"sk-text-repr-fallback\"><pre>Pipeline(steps=[(&#x27;processing&#x27;,\n",
       "                 ColumnTransformer(remainder=&#x27;passthrough&#x27;,\n",
       "                                   transformers=[(&#x27;numeric&#x27;,\n",
       "                                                  Pipeline(steps=[(&#x27;imputer&#x27;,\n",
       "                                                                   KNNImputer(n_neighbors=2))]),\n",
       "                                                  Index([&#x27;ASN&#x27;, &#x27;TTL&#x27;, &#x27;hex_32&#x27;, &#x27;hex_8&#x27;, &#x27;Alexa_Rank&#x27;, &#x27;subdomain&#x27;, &#x27;len&#x27;,\n",
       "       &#x27;oc_32&#x27;, &#x27;shortened&#x27;, &#x27;obfuscate_at_sign&#x27;, &#x27;entropy&#x27;, &#x27;Domain_Age&#x27;,\n",
       "       &#x27;dec_8&#x27;, &#x27;dec_32&#x27;, &#x27;numeric_percentage&#x27;, &#x27;puny_coded&#x27;, &#x27;oc_8&#x27;,\n",
       "       &#x27;Name_Ser...\n",
       "                                                  Index([&#x27;Country&#x27;, &#x27;IP&#x27;, &#x27;Domain&#x27;, &#x27;State&#x27;, &#x27;Country.1&#x27;, &#x27;Domain_Name&#x27;,\n",
       "       &#x27;Organization&#x27;, &#x27;longest_word&#x27;, &#x27;1gram&#x27;, &#x27;tld&#x27;, &#x27;Emails&#x27;, &#x27;typos&#x27;,\n",
       "       &#x27;3gram&#x27;, &#x27;char_distribution&#x27;, &#x27;2gram&#x27;, &#x27;Registrar&#x27;, &#x27;sld&#x27;],\n",
       "      dtype=&#x27;object&#x27;))])),\n",
       "                (&#x27;scaler&#x27;, StandardScaler()),\n",
       "                (&#x27;feature_selection&#x27;, SelectKBest()),\n",
       "                (&#x27;pca&#x27;, PCA(n_components=3)),\n",
       "                (&#x27;DecisionTreeClassifier&#x27;,\n",
       "                 DecisionTreeClassifier(class_weight={0: 0.5050708579350263,\n",
       "                                                      1: 49.80132202544275}))])</pre><b>In a Jupyter environment, please rerun this cell to show the HTML representation or trust the notebook. <br />On GitHub, the HTML representation is unable to render, please try loading this page with nbviewer.org.</b></div><div class=\"sk-container\" hidden><div class=\"sk-item sk-dashed-wrapped\"><div class=\"sk-label-container\"><div class=\"sk-label sk-toggleable\"><input class=\"sk-toggleable__control sk-hidden--visually\" id=\"sk-estimator-id-54\" type=\"checkbox\" ><label for=\"sk-estimator-id-54\" class=\"sk-toggleable__label sk-toggleable__label-arrow\">Pipeline</label><div class=\"sk-toggleable__content\"><pre>Pipeline(steps=[(&#x27;processing&#x27;,\n",
       "                 ColumnTransformer(remainder=&#x27;passthrough&#x27;,\n",
       "                                   transformers=[(&#x27;numeric&#x27;,\n",
       "                                                  Pipeline(steps=[(&#x27;imputer&#x27;,\n",
       "                                                                   KNNImputer(n_neighbors=2))]),\n",
       "                                                  Index([&#x27;ASN&#x27;, &#x27;TTL&#x27;, &#x27;hex_32&#x27;, &#x27;hex_8&#x27;, &#x27;Alexa_Rank&#x27;, &#x27;subdomain&#x27;, &#x27;len&#x27;,\n",
       "       &#x27;oc_32&#x27;, &#x27;shortened&#x27;, &#x27;obfuscate_at_sign&#x27;, &#x27;entropy&#x27;, &#x27;Domain_Age&#x27;,\n",
       "       &#x27;dec_8&#x27;, &#x27;dec_32&#x27;, &#x27;numeric_percentage&#x27;, &#x27;puny_coded&#x27;, &#x27;oc_8&#x27;,\n",
       "       &#x27;Name_Ser...\n",
       "                                                  Index([&#x27;Country&#x27;, &#x27;IP&#x27;, &#x27;Domain&#x27;, &#x27;State&#x27;, &#x27;Country.1&#x27;, &#x27;Domain_Name&#x27;,\n",
       "       &#x27;Organization&#x27;, &#x27;longest_word&#x27;, &#x27;1gram&#x27;, &#x27;tld&#x27;, &#x27;Emails&#x27;, &#x27;typos&#x27;,\n",
       "       &#x27;3gram&#x27;, &#x27;char_distribution&#x27;, &#x27;2gram&#x27;, &#x27;Registrar&#x27;, &#x27;sld&#x27;],\n",
       "      dtype=&#x27;object&#x27;))])),\n",
       "                (&#x27;scaler&#x27;, StandardScaler()),\n",
       "                (&#x27;feature_selection&#x27;, SelectKBest()),\n",
       "                (&#x27;pca&#x27;, PCA(n_components=3)),\n",
       "                (&#x27;DecisionTreeClassifier&#x27;,\n",
       "                 DecisionTreeClassifier(class_weight={0: 0.5050708579350263,\n",
       "                                                      1: 49.80132202544275}))])</pre></div></div></div><div class=\"sk-serial\"><div class=\"sk-item sk-dashed-wrapped\"><div class=\"sk-label-container\"><div class=\"sk-label sk-toggleable\"><input class=\"sk-toggleable__control sk-hidden--visually\" id=\"sk-estimator-id-55\" type=\"checkbox\" ><label for=\"sk-estimator-id-55\" class=\"sk-toggleable__label sk-toggleable__label-arrow\">processing: ColumnTransformer</label><div class=\"sk-toggleable__content\"><pre>ColumnTransformer(remainder=&#x27;passthrough&#x27;,\n",
       "                  transformers=[(&#x27;numeric&#x27;,\n",
       "                                 Pipeline(steps=[(&#x27;imputer&#x27;,\n",
       "                                                  KNNImputer(n_neighbors=2))]),\n",
       "                                 Index([&#x27;ASN&#x27;, &#x27;TTL&#x27;, &#x27;hex_32&#x27;, &#x27;hex_8&#x27;, &#x27;Alexa_Rank&#x27;, &#x27;subdomain&#x27;, &#x27;len&#x27;,\n",
       "       &#x27;oc_32&#x27;, &#x27;shortened&#x27;, &#x27;obfuscate_at_sign&#x27;, &#x27;entropy&#x27;, &#x27;Domain_Age&#x27;,\n",
       "       &#x27;dec_8&#x27;, &#x27;dec_32&#x27;, &#x27;numeric_percentage&#x27;, &#x27;puny_coded&#x27;, &#x27;oc_8&#x27;,\n",
       "       &#x27;Name_Server_Count&#x27;, &#x27;Page_Rank&#x27;, &#x27;Year&#x27;, &#x27;Month&#x27;],\n",
       "      dtype=&#x27;object&#x27;)),\n",
       "                                (&#x27;categorical&#x27;,\n",
       "                                 Pipeline(steps=[(&#x27;imputer&#x27;,\n",
       "                                                  SimpleImputer(strategy=&#x27;most_frequent&#x27;)),\n",
       "                                                 (&#x27;targetencoder&#x27;,\n",
       "                                                  TargetEncoder())]),\n",
       "                                 Index([&#x27;Country&#x27;, &#x27;IP&#x27;, &#x27;Domain&#x27;, &#x27;State&#x27;, &#x27;Country.1&#x27;, &#x27;Domain_Name&#x27;,\n",
       "       &#x27;Organization&#x27;, &#x27;longest_word&#x27;, &#x27;1gram&#x27;, &#x27;tld&#x27;, &#x27;Emails&#x27;, &#x27;typos&#x27;,\n",
       "       &#x27;3gram&#x27;, &#x27;char_distribution&#x27;, &#x27;2gram&#x27;, &#x27;Registrar&#x27;, &#x27;sld&#x27;],\n",
       "      dtype=&#x27;object&#x27;))])</pre></div></div></div><div class=\"sk-parallel\"><div class=\"sk-parallel-item\"><div class=\"sk-item\"><div class=\"sk-label-container\"><div class=\"sk-label sk-toggleable\"><input class=\"sk-toggleable__control sk-hidden--visually\" id=\"sk-estimator-id-56\" type=\"checkbox\" ><label for=\"sk-estimator-id-56\" class=\"sk-toggleable__label sk-toggleable__label-arrow\">numeric</label><div class=\"sk-toggleable__content\"><pre>Index([&#x27;ASN&#x27;, &#x27;TTL&#x27;, &#x27;hex_32&#x27;, &#x27;hex_8&#x27;, &#x27;Alexa_Rank&#x27;, &#x27;subdomain&#x27;, &#x27;len&#x27;,\n",
       "       &#x27;oc_32&#x27;, &#x27;shortened&#x27;, &#x27;obfuscate_at_sign&#x27;, &#x27;entropy&#x27;, &#x27;Domain_Age&#x27;,\n",
       "       &#x27;dec_8&#x27;, &#x27;dec_32&#x27;, &#x27;numeric_percentage&#x27;, &#x27;puny_coded&#x27;, &#x27;oc_8&#x27;,\n",
       "       &#x27;Name_Server_Count&#x27;, &#x27;Page_Rank&#x27;, &#x27;Year&#x27;, &#x27;Month&#x27;],\n",
       "      dtype=&#x27;object&#x27;)</pre></div></div></div><div class=\"sk-serial\"><div class=\"sk-item\"><div class=\"sk-serial\"><div class=\"sk-item\"><div class=\"sk-estimator sk-toggleable\"><input class=\"sk-toggleable__control sk-hidden--visually\" id=\"sk-estimator-id-57\" type=\"checkbox\" ><label for=\"sk-estimator-id-57\" class=\"sk-toggleable__label sk-toggleable__label-arrow\">KNNImputer</label><div class=\"sk-toggleable__content\"><pre>KNNImputer(n_neighbors=2)</pre></div></div></div></div></div></div></div></div><div class=\"sk-parallel-item\"><div class=\"sk-item\"><div class=\"sk-label-container\"><div class=\"sk-label sk-toggleable\"><input class=\"sk-toggleable__control sk-hidden--visually\" id=\"sk-estimator-id-58\" type=\"checkbox\" ><label for=\"sk-estimator-id-58\" class=\"sk-toggleable__label sk-toggleable__label-arrow\">categorical</label><div class=\"sk-toggleable__content\"><pre>Index([&#x27;Country&#x27;, &#x27;IP&#x27;, &#x27;Domain&#x27;, &#x27;State&#x27;, &#x27;Country.1&#x27;, &#x27;Domain_Name&#x27;,\n",
       "       &#x27;Organization&#x27;, &#x27;longest_word&#x27;, &#x27;1gram&#x27;, &#x27;tld&#x27;, &#x27;Emails&#x27;, &#x27;typos&#x27;,\n",
       "       &#x27;3gram&#x27;, &#x27;char_distribution&#x27;, &#x27;2gram&#x27;, &#x27;Registrar&#x27;, &#x27;sld&#x27;],\n",
       "      dtype=&#x27;object&#x27;)</pre></div></div></div><div class=\"sk-serial\"><div class=\"sk-item\"><div class=\"sk-serial\"><div class=\"sk-item\"><div class=\"sk-estimator sk-toggleable\"><input class=\"sk-toggleable__control sk-hidden--visually\" id=\"sk-estimator-id-59\" type=\"checkbox\" ><label for=\"sk-estimator-id-59\" class=\"sk-toggleable__label sk-toggleable__label-arrow\">SimpleImputer</label><div class=\"sk-toggleable__content\"><pre>SimpleImputer(strategy=&#x27;most_frequent&#x27;)</pre></div></div></div><div class=\"sk-item\"><div class=\"sk-estimator sk-toggleable\"><input class=\"sk-toggleable__control sk-hidden--visually\" id=\"sk-estimator-id-60\" type=\"checkbox\" ><label for=\"sk-estimator-id-60\" class=\"sk-toggleable__label sk-toggleable__label-arrow\">TargetEncoder</label><div class=\"sk-toggleable__content\"><pre>TargetEncoder()</pre></div></div></div></div></div></div></div></div><div class=\"sk-parallel-item\"><div class=\"sk-item\"><div class=\"sk-label-container\"><div class=\"sk-label sk-toggleable\"><input class=\"sk-toggleable__control sk-hidden--visually\" id=\"sk-estimator-id-61\" type=\"checkbox\" ><label for=\"sk-estimator-id-61\" class=\"sk-toggleable__label sk-toggleable__label-arrow\">remainder</label><div class=\"sk-toggleable__content\"><pre></pre></div></div></div><div class=\"sk-serial\"><div class=\"sk-item\"><div class=\"sk-estimator sk-toggleable\"><input class=\"sk-toggleable__control sk-hidden--visually\" id=\"sk-estimator-id-62\" type=\"checkbox\" ><label for=\"sk-estimator-id-62\" class=\"sk-toggleable__label sk-toggleable__label-arrow\">passthrough</label><div class=\"sk-toggleable__content\"><pre>passthrough</pre></div></div></div></div></div></div></div></div><div class=\"sk-item\"><div class=\"sk-estimator sk-toggleable\"><input class=\"sk-toggleable__control sk-hidden--visually\" id=\"sk-estimator-id-63\" type=\"checkbox\" ><label for=\"sk-estimator-id-63\" class=\"sk-toggleable__label sk-toggleable__label-arrow\">StandardScaler</label><div class=\"sk-toggleable__content\"><pre>StandardScaler()</pre></div></div></div><div class=\"sk-item\"><div class=\"sk-estimator sk-toggleable\"><input class=\"sk-toggleable__control sk-hidden--visually\" id=\"sk-estimator-id-64\" type=\"checkbox\" ><label for=\"sk-estimator-id-64\" class=\"sk-toggleable__label sk-toggleable__label-arrow\">SelectKBest</label><div class=\"sk-toggleable__content\"><pre>SelectKBest()</pre></div></div></div><div class=\"sk-item\"><div class=\"sk-estimator sk-toggleable\"><input class=\"sk-toggleable__control sk-hidden--visually\" id=\"sk-estimator-id-65\" type=\"checkbox\" ><label for=\"sk-estimator-id-65\" class=\"sk-toggleable__label sk-toggleable__label-arrow\">PCA</label><div class=\"sk-toggleable__content\"><pre>PCA(n_components=3)</pre></div></div></div><div class=\"sk-item\"><div class=\"sk-estimator sk-toggleable\"><input class=\"sk-toggleable__control sk-hidden--visually\" id=\"sk-estimator-id-66\" type=\"checkbox\" ><label for=\"sk-estimator-id-66\" class=\"sk-toggleable__label sk-toggleable__label-arrow\">DecisionTreeClassifier</label><div class=\"sk-toggleable__content\"><pre>DecisionTreeClassifier(class_weight={0: 0.5050708579350263,\n",
       "                                     1: 49.80132202544275})</pre></div></div></div></div></div></div></div>"
      ],
      "text/plain": [
       "Pipeline(steps=[('processing',\n",
       "                 ColumnTransformer(remainder='passthrough',\n",
       "                                   transformers=[('numeric',\n",
       "                                                  Pipeline(steps=[('imputer',\n",
       "                                                                   KNNImputer(n_neighbors=2))]),\n",
       "                                                  Index(['ASN', 'TTL', 'hex_32', 'hex_8', 'Alexa_Rank', 'subdomain', 'len',\n",
       "       'oc_32', 'shortened', 'obfuscate_at_sign', 'entropy', 'Domain_Age',\n",
       "       'dec_8', 'dec_32', 'numeric_percentage', 'puny_coded', 'oc_8',\n",
       "       'Name_Ser...\n",
       "                                                  Index(['Country', 'IP', 'Domain', 'State', 'Country.1', 'Domain_Name',\n",
       "       'Organization', 'longest_word', '1gram', 'tld', 'Emails', 'typos',\n",
       "       '3gram', 'char_distribution', '2gram', 'Registrar', 'sld'],\n",
       "      dtype='object'))])),\n",
       "                ('scaler', StandardScaler()),\n",
       "                ('feature_selection', SelectKBest()),\n",
       "                ('pca', PCA(n_components=3)),\n",
       "                ('DecisionTreeClassifier',\n",
       "                 DecisionTreeClassifier(class_weight={0: 0.5050708579350263,\n",
       "                                                      1: 49.80132202544275}))])"
      ]
     },
     "execution_count": 112,
     "metadata": {},
     "output_type": "execute_result"
    }
   ],
   "source": [
    "transform"
   ]
  },
  {
   "cell_type": "code",
   "execution_count": 123,
   "id": "4b79440a-02eb-4cad-abd3-7ee3df4253df",
   "metadata": {
    "tags": []
   },
   "outputs": [
    {
     "name": "stderr",
     "output_type": "stream",
     "text": [
      "/opt/anaconda3/envs/domain-classifier/lib/python3.11/site-packages/sklearn/feature_selection/_univariate_selection.py:112: UserWarning: Features [ 3 12 16] are constant.\n",
      "  warnings.warn(\"Features %s are constant.\" % constant_features_idx, UserWarning)\n",
      "/opt/anaconda3/envs/domain-classifier/lib/python3.11/site-packages/sklearn/feature_selection/_univariate_selection.py:113: RuntimeWarning: invalid value encountered in divide\n",
      "  f = msb / msw\n"
     ]
    }
   ],
   "source": [
    "model2 = transform.fit(X_train[:100000],y_train[:100000])\n",
    "# model.score(X_test, y_test)"
   ]
  },
  {
   "cell_type": "markdown",
   "id": "374b3870-bf6c-4a39-b3c9-9e0bc97080f1",
   "metadata": {},
   "source": [
    "Generate predictions"
   ]
  },
  {
   "cell_type": "code",
   "execution_count": 119,
   "id": "f15851ac-60b3-4038-b4f6-14cb42504e72",
   "metadata": {},
   "outputs": [],
   "source": [
    "y_pred = model2.predict(X_test)"
   ]
  },
  {
   "cell_type": "markdown",
   "id": "e9f7fb1b-1295-46a9-9a88-43da56670842",
   "metadata": {},
   "source": [
    "Model evaluation and performance"
   ]
  },
  {
   "cell_type": "code",
   "execution_count": 120,
   "id": "36f816c2-9cff-469c-b9c2-d3d203357107",
   "metadata": {},
   "outputs": [
    {
     "name": "stdout",
     "output_type": "stream",
     "text": [
      "              precision    recall  f1-score   support\n",
      "\n",
      "           0       0.99      0.89      0.94     98837\n",
      "           1       0.04      0.53      0.08       990\n",
      "\n",
      "    accuracy                           0.88     99827\n",
      "   macro avg       0.52      0.71      0.51     99827\n",
      "weighted avg       0.99      0.88      0.93     99827\n",
      "\n"
     ]
    }
   ],
   "source": [
    "# Generate a classification report\n",
    "report = classification_report(y_test, y_pred)\n",
    "print(report)"
   ]
  },
  {
   "cell_type": "code",
   "execution_count": 121,
   "id": "658a4e94-ccee-4664-b6b6-106202c9a202",
   "metadata": {},
   "outputs": [
    {
     "data": {
      "image/png": "[encoded data removed]",
      "text/plain": [
       "<Figure size 500x400 with 2 Axes>"
      ]
     },
     "metadata": {},
     "output_type": "display_data"
    }
   ],
   "source": [
    "# Generate a confusion matrix\n",
    "cm = confusion_matrix(y_test, y_pred)\n",
    "\n",
    "# Vizualize the confusion matrix\n",
    "fig, ax = plt.subplots(figsize=(5,4))\n",
    "sns.heatmap(cm, annot=True, fmt='g', ax=ax)\n",
    "\n",
    "# Set the axis labels and title\n",
    "plt.xlabel('Predicted')\n",
    "plt.ylabel('Actual')\n",
    "plt.title('Confusion matrix', y=1.05, fontsize = 11);"
   ]
  },
  {
   "cell_type": "code",
   "execution_count": null,
   "id": "c235e557-57e7-4fd1-be70-1a2e7bc4efb8",
   "metadata": {},
   "outputs": [],
   "source": []
  },
  {
   "cell_type": "markdown",
   "id": "bfdc7a13-3d42-445a-a4ba-fd722e4e0010",
   "metadata": {},
   "source": [
    "## Random Undersampling"
   ]
  },
  {
   "cell_type": "markdown",
   "id": "3a303ff0-827c-4f4b-b252-a244b95c9bd0",
   "metadata": {},
   "source": [
    "Data undersampling to address class imbalance"
   ]
  },
  {
   "cell_type": "code",
   "execution_count": 153,
   "id": "409ba5f7-7cdd-4136-b4e9-f0e2b1503d43",
   "metadata": {},
   "outputs": [],
   "source": [
    "import imblearn"
   ]
  },
  {
   "cell_type": "code",
   "execution_count": 155,
   "id": "89e2e21e-9b2c-4048-923e-0f2d7dc88986",
   "metadata": {
    "tags": []
   },
   "outputs": [],
   "source": [
    "from imblearn.under_sampling import RandomUnderSampler"
   ]
  },
  {
   "cell_type": "code",
   "execution_count": 171,
   "id": "6d63708a-792d-4235-9cea-ad39cac960e7",
   "metadata": {},
   "outputs": [],
   "source": [
    "# define undersample strategy\n",
    "undersample = RandomUnderSampler(sampling_strategy='majority')\n",
    "# fit and apply the transform\n",
    "X_under, y_under = undersample.fit_resample(X_train, y_train)"
   ]
  },
  {
   "cell_type": "markdown",
   "id": "80262048-0670-4f02-ba15-7d53d3aff6ea",
   "metadata": {},
   "source": [
    "### Pipeline 3 (resampling)"
   ]
  },
  {
   "cell_type": "markdown",
   "id": "ea00f665-dad8-4aff-8106-fd176de7e290",
   "metadata": {},
   "source": [
    "Create numerical and categorical transformation data pipeline"
   ]
  },
  {
   "cell_type": "code",
   "execution_count": 174,
   "id": "baa25058-6405-4cb9-96cb-ce32241c7751",
   "metadata": {},
   "outputs": [],
   "source": [
    "numeric_transformer = Pipeline(steps=[\n",
    "   ('imputer', KNNImputer(n_neighbors=2, weights=\"uniform\"))])\n",
    "\n",
    "categorical_transformer = Pipeline(steps=[\n",
    "   ('imputer', SimpleImputer(strategy='most_frequent')),\n",
    "   ('targetencoder', TargetEncoder())])"
   ]
  },
  {
   "cell_type": "markdown",
   "id": "8c293070-1c77-4a87-82b0-1da6e3aa30e3",
   "metadata": {},
   "source": [
    "Process and transform the training feature using ColumnTransformer"
   ]
  },
  {
   "cell_type": "code",
   "execution_count": 175,
   "id": "67792873-a4b8-4b09-ae03-1453be6ce769",
   "metadata": {},
   "outputs": [],
   "source": [
    "preprocessor = ColumnTransformer(\n",
    "   remainder = 'passthrough',\n",
    "   transformers=[\n",
    "       ('numeric', numeric_transformer, num_col),\n",
    "       ('categorical', categorical_transformer, cat_col)\n",
    "])"
   ]
  },
  {
   "cell_type": "markdown",
   "id": "3cb3efe7-e2ef-4626-a2b3-d2bac776c0f8",
   "metadata": {},
   "source": [
    "Create pipeline"
   ]
  },
  {
   "cell_type": "code",
   "execution_count": 176,
   "id": "5eec002b-7163-4325-a056-6e8383ca106e",
   "metadata": {},
   "outputs": [],
   "source": [
    "transform = Pipeline(\n",
    "   steps=[\n",
    "       ('processing', preprocessor),\n",
    "       ('scaler', StandardScaler()),  # Define a Standard Scaler to normalize inputs\n",
    "       ('feature_selection', SelectKBest(k=15)), # Create a feature selection method (e.g., SelectKBest)\n",
    "       (\"DecisionTreeClassifier\", DecisionTreeClassifier(class_weight=class_weights, max_depth=5, random_state=42))\n",
    "   ]\n",
    ")"
   ]
  },
  {
   "cell_type": "code",
   "execution_count": 177,
   "id": "6718750e-1799-4a73-a362-d1740294fed9",
   "metadata": {},
   "outputs": [
    {
     "data": {
      "text/html": [
       "<style>#sk-container-id-9 {color: black;}#sk-container-id-9 pre{padding: 0;}#sk-container-id-9 div.sk-toggleable {background-color: white;}#sk-container-id-9 label.sk-toggleable__label {cursor: pointer;display: block;width: 100%;margin-bottom: 0;padding: 0.3em;box-sizing: border-box;text-align: center;}#sk-container-id-9 label.sk-toggleable__label-arrow:before {content: \"▸\";float: left;margin-right: 0.25em;color: #696969;}#sk-container-id-9 label.sk-toggleable__label-arrow:hover:before {color: black;}#sk-container-id-9 div.sk-estimator:hover label.sk-toggleable__label-arrow:before {color: black;}#sk-container-id-9 div.sk-toggleable__content {max-height: 0;max-width: 0;overflow: hidden;text-align: left;background-color: #f0f8ff;}#sk-container-id-9 div.sk-toggleable__content pre {margin: 0.2em;color: black;border-radius: 0.25em;background-color: #f0f8ff;}#sk-container-id-9 input.sk-toggleable__control:checked~div.sk-toggleable__content {max-height: 200px;max-width: 100%;overflow: auto;}#sk-container-id-9 input.sk-toggleable__control:checked~label.sk-toggleable__label-arrow:before {content: \"▾\";}#sk-container-id-9 div.sk-estimator input.sk-toggleable__control:checked~label.sk-toggleable__label {background-color: #d4ebff;}#sk-container-id-9 div.sk-label input.sk-toggleable__control:checked~label.sk-toggleable__label {background-color: #d4ebff;}#sk-container-id-9 input.sk-hidden--visually {border: 0;clip: rect(1px 1px 1px 1px);clip: rect(1px, 1px, 1px, 1px);height: 1px;margin: -1px;overflow: hidden;padding: 0;position: absolute;width: 1px;}#sk-container-id-9 div.sk-estimator {font-family: monospace;background-color: #f0f8ff;border: 1px dotted black;border-radius: 0.25em;box-sizing: border-box;margin-bottom: 0.5em;}#sk-container-id-9 div.sk-estimator:hover {background-color: #d4ebff;}#sk-container-id-9 div.sk-parallel-item::after {content: \"\";width: 100%;border-bottom: 1px solid gray;flex-grow: 1;}#sk-container-id-9 div.sk-label:hover label.sk-toggleable__label {background-color: #d4ebff;}#sk-container-id-9 div.sk-serial::before {content: \"\";position: absolute;border-left: 1px solid gray;box-sizing: border-box;top: 0;bottom: 0;left: 50%;z-index: 0;}#sk-container-id-9 div.sk-serial {display: flex;flex-direction: column;align-items: center;background-color: white;padding-right: 0.2em;padding-left: 0.2em;position: relative;}#sk-container-id-9 div.sk-item {position: relative;z-index: 1;}#sk-container-id-9 div.sk-parallel {display: flex;align-items: stretch;justify-content: center;background-color: white;position: relative;}#sk-container-id-9 div.sk-item::before, #sk-container-id-9 div.sk-parallel-item::before {content: \"\";position: absolute;border-left: 1px solid gray;box-sizing: border-box;top: 0;bottom: 0;left: 50%;z-index: -1;}#sk-container-id-9 div.sk-parallel-item {display: flex;flex-direction: column;z-index: 1;position: relative;background-color: white;}#sk-container-id-9 div.sk-parallel-item:first-child::after {align-self: flex-end;width: 50%;}#sk-container-id-9 div.sk-parallel-item:last-child::after {align-self: flex-start;width: 50%;}#sk-container-id-9 div.sk-parallel-item:only-child::after {width: 0;}#sk-container-id-9 div.sk-dashed-wrapped {border: 1px dashed gray;margin: 0 0.4em 0.5em 0.4em;box-sizing: border-box;padding-bottom: 0.4em;background-color: white;}#sk-container-id-9 div.sk-label label {font-family: monospace;font-weight: bold;display: inline-block;line-height: 1.2em;}#sk-container-id-9 div.sk-label-container {text-align: center;}#sk-container-id-9 div.sk-container {/* jupyter's `normalize.less` sets `[hidden] { display: none; }` but bootstrap.min.css set `[hidden] { display: none !important; }` so we also need the `!important` here to be able to override the default hidden behavior on the sphinx rendered scikit-learn.org. See: https://github.com/scikit-learn/scikit-learn/issues/21755 */display: inline-block !important;position: relative;}#sk-container-id-9 div.sk-text-repr-fallback {display: none;}</style><div id=\"sk-container-id-9\" class=\"sk-top-container\"><div class=\"sk-text-repr-fallback\"><pre>Pipeline(steps=[(&#x27;processing&#x27;,\n",
       "                 ColumnTransformer(remainder=&#x27;passthrough&#x27;,\n",
       "                                   transformers=[(&#x27;numeric&#x27;,\n",
       "                                                  Pipeline(steps=[(&#x27;imputer&#x27;,\n",
       "                                                                   KNNImputer(n_neighbors=2))]),\n",
       "                                                  Index([&#x27;ASN&#x27;, &#x27;TTL&#x27;, &#x27;hex_32&#x27;, &#x27;hex_8&#x27;, &#x27;Alexa_Rank&#x27;, &#x27;subdomain&#x27;, &#x27;len&#x27;,\n",
       "       &#x27;oc_32&#x27;, &#x27;shortened&#x27;, &#x27;obfuscate_at_sign&#x27;, &#x27;entropy&#x27;, &#x27;Domain_Age&#x27;,\n",
       "       &#x27;dec_8&#x27;, &#x27;dec_32&#x27;, &#x27;numeric_percentage&#x27;, &#x27;puny_coded&#x27;, &#x27;oc_8&#x27;,\n",
       "       &#x27;Name_Ser...\n",
       "                                                  Index([&#x27;Country&#x27;, &#x27;IP&#x27;, &#x27;Domain&#x27;, &#x27;State&#x27;, &#x27;Country.1&#x27;, &#x27;Domain_Name&#x27;,\n",
       "       &#x27;Organization&#x27;, &#x27;longest_word&#x27;, &#x27;1gram&#x27;, &#x27;tld&#x27;, &#x27;Emails&#x27;, &#x27;typos&#x27;,\n",
       "       &#x27;3gram&#x27;, &#x27;char_distribution&#x27;, &#x27;2gram&#x27;, &#x27;Registrar&#x27;, &#x27;sld&#x27;],\n",
       "      dtype=&#x27;object&#x27;))])),\n",
       "                (&#x27;scaler&#x27;, StandardScaler()),\n",
       "                (&#x27;feature_selection&#x27;, SelectKBest(k=15)),\n",
       "                (&#x27;DecisionTreeClassifier&#x27;,\n",
       "                 DecisionTreeClassifier(class_weight={0: 0.5050708579350263,\n",
       "                                                      1: 49.80132202544275},\n",
       "                                        max_depth=5, random_state=42))])</pre><b>In a Jupyter environment, please rerun this cell to show the HTML representation or trust the notebook. <br />On GitHub, the HTML representation is unable to render, please try loading this page with nbviewer.org.</b></div><div class=\"sk-container\" hidden><div class=\"sk-item sk-dashed-wrapped\"><div class=\"sk-label-container\"><div class=\"sk-label sk-toggleable\"><input class=\"sk-toggleable__control sk-hidden--visually\" id=\"sk-estimator-id-105\" type=\"checkbox\" ><label for=\"sk-estimator-id-105\" class=\"sk-toggleable__label sk-toggleable__label-arrow\">Pipeline</label><div class=\"sk-toggleable__content\"><pre>Pipeline(steps=[(&#x27;processing&#x27;,\n",
       "                 ColumnTransformer(remainder=&#x27;passthrough&#x27;,\n",
       "                                   transformers=[(&#x27;numeric&#x27;,\n",
       "                                                  Pipeline(steps=[(&#x27;imputer&#x27;,\n",
       "                                                                   KNNImputer(n_neighbors=2))]),\n",
       "                                                  Index([&#x27;ASN&#x27;, &#x27;TTL&#x27;, &#x27;hex_32&#x27;, &#x27;hex_8&#x27;, &#x27;Alexa_Rank&#x27;, &#x27;subdomain&#x27;, &#x27;len&#x27;,\n",
       "       &#x27;oc_32&#x27;, &#x27;shortened&#x27;, &#x27;obfuscate_at_sign&#x27;, &#x27;entropy&#x27;, &#x27;Domain_Age&#x27;,\n",
       "       &#x27;dec_8&#x27;, &#x27;dec_32&#x27;, &#x27;numeric_percentage&#x27;, &#x27;puny_coded&#x27;, &#x27;oc_8&#x27;,\n",
       "       &#x27;Name_Ser...\n",
       "                                                  Index([&#x27;Country&#x27;, &#x27;IP&#x27;, &#x27;Domain&#x27;, &#x27;State&#x27;, &#x27;Country.1&#x27;, &#x27;Domain_Name&#x27;,\n",
       "       &#x27;Organization&#x27;, &#x27;longest_word&#x27;, &#x27;1gram&#x27;, &#x27;tld&#x27;, &#x27;Emails&#x27;, &#x27;typos&#x27;,\n",
       "       &#x27;3gram&#x27;, &#x27;char_distribution&#x27;, &#x27;2gram&#x27;, &#x27;Registrar&#x27;, &#x27;sld&#x27;],\n",
       "      dtype=&#x27;object&#x27;))])),\n",
       "                (&#x27;scaler&#x27;, StandardScaler()),\n",
       "                (&#x27;feature_selection&#x27;, SelectKBest(k=15)),\n",
       "                (&#x27;DecisionTreeClassifier&#x27;,\n",
       "                 DecisionTreeClassifier(class_weight={0: 0.5050708579350263,\n",
       "                                                      1: 49.80132202544275},\n",
       "                                        max_depth=5, random_state=42))])</pre></div></div></div><div class=\"sk-serial\"><div class=\"sk-item sk-dashed-wrapped\"><div class=\"sk-label-container\"><div class=\"sk-label sk-toggleable\"><input class=\"sk-toggleable__control sk-hidden--visually\" id=\"sk-estimator-id-106\" type=\"checkbox\" ><label for=\"sk-estimator-id-106\" class=\"sk-toggleable__label sk-toggleable__label-arrow\">processing: ColumnTransformer</label><div class=\"sk-toggleable__content\"><pre>ColumnTransformer(remainder=&#x27;passthrough&#x27;,\n",
       "                  transformers=[(&#x27;numeric&#x27;,\n",
       "                                 Pipeline(steps=[(&#x27;imputer&#x27;,\n",
       "                                                  KNNImputer(n_neighbors=2))]),\n",
       "                                 Index([&#x27;ASN&#x27;, &#x27;TTL&#x27;, &#x27;hex_32&#x27;, &#x27;hex_8&#x27;, &#x27;Alexa_Rank&#x27;, &#x27;subdomain&#x27;, &#x27;len&#x27;,\n",
       "       &#x27;oc_32&#x27;, &#x27;shortened&#x27;, &#x27;obfuscate_at_sign&#x27;, &#x27;entropy&#x27;, &#x27;Domain_Age&#x27;,\n",
       "       &#x27;dec_8&#x27;, &#x27;dec_32&#x27;, &#x27;numeric_percentage&#x27;, &#x27;puny_coded&#x27;, &#x27;oc_8&#x27;,\n",
       "       &#x27;Name_Server_Count&#x27;, &#x27;Page_Rank&#x27;, &#x27;Year&#x27;, &#x27;Month&#x27;],\n",
       "      dtype=&#x27;object&#x27;)),\n",
       "                                (&#x27;categorical&#x27;,\n",
       "                                 Pipeline(steps=[(&#x27;imputer&#x27;,\n",
       "                                                  SimpleImputer(strategy=&#x27;most_frequent&#x27;)),\n",
       "                                                 (&#x27;targetencoder&#x27;,\n",
       "                                                  TargetEncoder())]),\n",
       "                                 Index([&#x27;Country&#x27;, &#x27;IP&#x27;, &#x27;Domain&#x27;, &#x27;State&#x27;, &#x27;Country.1&#x27;, &#x27;Domain_Name&#x27;,\n",
       "       &#x27;Organization&#x27;, &#x27;longest_word&#x27;, &#x27;1gram&#x27;, &#x27;tld&#x27;, &#x27;Emails&#x27;, &#x27;typos&#x27;,\n",
       "       &#x27;3gram&#x27;, &#x27;char_distribution&#x27;, &#x27;2gram&#x27;, &#x27;Registrar&#x27;, &#x27;sld&#x27;],\n",
       "      dtype=&#x27;object&#x27;))])</pre></div></div></div><div class=\"sk-parallel\"><div class=\"sk-parallel-item\"><div class=\"sk-item\"><div class=\"sk-label-container\"><div class=\"sk-label sk-toggleable\"><input class=\"sk-toggleable__control sk-hidden--visually\" id=\"sk-estimator-id-107\" type=\"checkbox\" ><label for=\"sk-estimator-id-107\" class=\"sk-toggleable__label sk-toggleable__label-arrow\">numeric</label><div class=\"sk-toggleable__content\"><pre>Index([&#x27;ASN&#x27;, &#x27;TTL&#x27;, &#x27;hex_32&#x27;, &#x27;hex_8&#x27;, &#x27;Alexa_Rank&#x27;, &#x27;subdomain&#x27;, &#x27;len&#x27;,\n",
       "       &#x27;oc_32&#x27;, &#x27;shortened&#x27;, &#x27;obfuscate_at_sign&#x27;, &#x27;entropy&#x27;, &#x27;Domain_Age&#x27;,\n",
       "       &#x27;dec_8&#x27;, &#x27;dec_32&#x27;, &#x27;numeric_percentage&#x27;, &#x27;puny_coded&#x27;, &#x27;oc_8&#x27;,\n",
       "       &#x27;Name_Server_Count&#x27;, &#x27;Page_Rank&#x27;, &#x27;Year&#x27;, &#x27;Month&#x27;],\n",
       "      dtype=&#x27;object&#x27;)</pre></div></div></div><div class=\"sk-serial\"><div class=\"sk-item\"><div class=\"sk-serial\"><div class=\"sk-item\"><div class=\"sk-estimator sk-toggleable\"><input class=\"sk-toggleable__control sk-hidden--visually\" id=\"sk-estimator-id-108\" type=\"checkbox\" ><label for=\"sk-estimator-id-108\" class=\"sk-toggleable__label sk-toggleable__label-arrow\">KNNImputer</label><div class=\"sk-toggleable__content\"><pre>KNNImputer(n_neighbors=2)</pre></div></div></div></div></div></div></div></div><div class=\"sk-parallel-item\"><div class=\"sk-item\"><div class=\"sk-label-container\"><div class=\"sk-label sk-toggleable\"><input class=\"sk-toggleable__control sk-hidden--visually\" id=\"sk-estimator-id-109\" type=\"checkbox\" ><label for=\"sk-estimator-id-109\" class=\"sk-toggleable__label sk-toggleable__label-arrow\">categorical</label><div class=\"sk-toggleable__content\"><pre>Index([&#x27;Country&#x27;, &#x27;IP&#x27;, &#x27;Domain&#x27;, &#x27;State&#x27;, &#x27;Country.1&#x27;, &#x27;Domain_Name&#x27;,\n",
       "       &#x27;Organization&#x27;, &#x27;longest_word&#x27;, &#x27;1gram&#x27;, &#x27;tld&#x27;, &#x27;Emails&#x27;, &#x27;typos&#x27;,\n",
       "       &#x27;3gram&#x27;, &#x27;char_distribution&#x27;, &#x27;2gram&#x27;, &#x27;Registrar&#x27;, &#x27;sld&#x27;],\n",
       "      dtype=&#x27;object&#x27;)</pre></div></div></div><div class=\"sk-serial\"><div class=\"sk-item\"><div class=\"sk-serial\"><div class=\"sk-item\"><div class=\"sk-estimator sk-toggleable\"><input class=\"sk-toggleable__control sk-hidden--visually\" id=\"sk-estimator-id-110\" type=\"checkbox\" ><label for=\"sk-estimator-id-110\" class=\"sk-toggleable__label sk-toggleable__label-arrow\">SimpleImputer</label><div class=\"sk-toggleable__content\"><pre>SimpleImputer(strategy=&#x27;most_frequent&#x27;)</pre></div></div></div><div class=\"sk-item\"><div class=\"sk-estimator sk-toggleable\"><input class=\"sk-toggleable__control sk-hidden--visually\" id=\"sk-estimator-id-111\" type=\"checkbox\" ><label for=\"sk-estimator-id-111\" class=\"sk-toggleable__label sk-toggleable__label-arrow\">TargetEncoder</label><div class=\"sk-toggleable__content\"><pre>TargetEncoder()</pre></div></div></div></div></div></div></div></div><div class=\"sk-parallel-item\"><div class=\"sk-item\"><div class=\"sk-label-container\"><div class=\"sk-label sk-toggleable\"><input class=\"sk-toggleable__control sk-hidden--visually\" id=\"sk-estimator-id-112\" type=\"checkbox\" ><label for=\"sk-estimator-id-112\" class=\"sk-toggleable__label sk-toggleable__label-arrow\">remainder</label><div class=\"sk-toggleable__content\"><pre></pre></div></div></div><div class=\"sk-serial\"><div class=\"sk-item\"><div class=\"sk-estimator sk-toggleable\"><input class=\"sk-toggleable__control sk-hidden--visually\" id=\"sk-estimator-id-113\" type=\"checkbox\" ><label for=\"sk-estimator-id-113\" class=\"sk-toggleable__label sk-toggleable__label-arrow\">passthrough</label><div class=\"sk-toggleable__content\"><pre>passthrough</pre></div></div></div></div></div></div></div></div><div class=\"sk-item\"><div class=\"sk-estimator sk-toggleable\"><input class=\"sk-toggleable__control sk-hidden--visually\" id=\"sk-estimator-id-114\" type=\"checkbox\" ><label for=\"sk-estimator-id-114\" class=\"sk-toggleable__label sk-toggleable__label-arrow\">StandardScaler</label><div class=\"sk-toggleable__content\"><pre>StandardScaler()</pre></div></div></div><div class=\"sk-item\"><div class=\"sk-estimator sk-toggleable\"><input class=\"sk-toggleable__control sk-hidden--visually\" id=\"sk-estimator-id-115\" type=\"checkbox\" ><label for=\"sk-estimator-id-115\" class=\"sk-toggleable__label sk-toggleable__label-arrow\">SelectKBest</label><div class=\"sk-toggleable__content\"><pre>SelectKBest(k=15)</pre></div></div></div><div class=\"sk-item\"><div class=\"sk-estimator sk-toggleable\"><input class=\"sk-toggleable__control sk-hidden--visually\" id=\"sk-estimator-id-116\" type=\"checkbox\" ><label for=\"sk-estimator-id-116\" class=\"sk-toggleable__label sk-toggleable__label-arrow\">DecisionTreeClassifier</label><div class=\"sk-toggleable__content\"><pre>DecisionTreeClassifier(class_weight={0: 0.5050708579350263,\n",
       "                                     1: 49.80132202544275},\n",
       "                       max_depth=5, random_state=42)</pre></div></div></div></div></div></div></div>"
      ],
      "text/plain": [
       "Pipeline(steps=[('processing',\n",
       "                 ColumnTransformer(remainder='passthrough',\n",
       "                                   transformers=[('numeric',\n",
       "                                                  Pipeline(steps=[('imputer',\n",
       "                                                                   KNNImputer(n_neighbors=2))]),\n",
       "                                                  Index(['ASN', 'TTL', 'hex_32', 'hex_8', 'Alexa_Rank', 'subdomain', 'len',\n",
       "       'oc_32', 'shortened', 'obfuscate_at_sign', 'entropy', 'Domain_Age',\n",
       "       'dec_8', 'dec_32', 'numeric_percentage', 'puny_coded', 'oc_8',\n",
       "       'Name_Ser...\n",
       "                                                  Index(['Country', 'IP', 'Domain', 'State', 'Country.1', 'Domain_Name',\n",
       "       'Organization', 'longest_word', '1gram', 'tld', 'Emails', 'typos',\n",
       "       '3gram', 'char_distribution', '2gram', 'Registrar', 'sld'],\n",
       "      dtype='object'))])),\n",
       "                ('scaler', StandardScaler()),\n",
       "                ('feature_selection', SelectKBest(k=15)),\n",
       "                ('DecisionTreeClassifier',\n",
       "                 DecisionTreeClassifier(class_weight={0: 0.5050708579350263,\n",
       "                                                      1: 49.80132202544275},\n",
       "                                        max_depth=5, random_state=42))])"
      ]
     },
     "execution_count": 177,
     "metadata": {},
     "output_type": "execute_result"
    }
   ],
   "source": [
    "transform"
   ]
  },
  {
   "cell_type": "code",
   "execution_count": 214,
   "id": "6893b70b-3ca4-4615-a975-d0f80368c5cc",
   "metadata": {},
   "outputs": [],
   "source": [
    "def generate_clf_results(X_train, y_train, X_test, y_test, clf, sampling_strategy=0.5):\n",
    "\n",
    "    # define undersample strategy\n",
    "    undersample = RandomUnderSampler(sampling_strategy=sampling_strategy)\n",
    "    # fit and apply the transform\n",
    "    X_under, y_under = undersample.fit_resample(X_train, y_train)\n",
    "    \n",
    "    transform = Pipeline(\n",
    "       steps=[\n",
    "           ('processing', preprocessor),\n",
    "           ('scaler', StandardScaler()),  # Define a Standard Scaler to normalize inputs\n",
    "           ('feature_selection', SelectKBest(k=15)), # Create a feature selection method (e.g., SelectKBest)\n",
    "           (\"Classifier\", clf)\n",
    "       ]\n",
    "    )\n",
    "    \n",
    "    model = transform.fit(X_under,y_under)\n",
    "    \n",
    "    y_pred = model.predict(X_test)\n",
    "    # Generate a classification report\n",
    "    report = classification_report(y_test, y_pred)\n",
    "    print(report)\n",
    "    \n",
    "    # Generate a confusion matrix\n",
    "    cm = confusion_matrix(y_test, y_pred)\n",
    "\n",
    "    # Vizualize the confusion matrix\n",
    "    fig, ax = plt.subplots(figsize=(5,4))\n",
    "    sns.heatmap(cm, annot=True, fmt='g', ax=ax)\n",
    "\n",
    "    # Set the axis labels and title\n",
    "    plt.xlabel('Predicted')\n",
    "    plt.ylabel('Actual')\n",
    "    plt.title('Confusion matrix', y=1.05, fontsize = 11);\n",
    "    \n",
    "    # return f1_score(y_test, y_pred, average='weighted'), \n",
    "    #         recall_score(y_test, y_pred, average='weighted'), \n",
    "    #         precision_score(y_test, y_pred, average='weighted')"
   ]
  },
  {
   "cell_type": "code",
   "execution_count": 215,
   "id": "f4bbfd08-3a2c-4533-84e7-1b452aec4f7b",
   "metadata": {},
   "outputs": [
    {
     "name": "stderr",
     "output_type": "stream",
     "text": [
      "/opt/anaconda3/envs/domain-classifier/lib/python3.11/site-packages/sklearn/feature_selection/_univariate_selection.py:112: UserWarning: Features [ 2  3 12 16] are constant.\n",
      "  warnings.warn(\"Features %s are constant.\" % constant_features_idx, UserWarning)\n",
      "/opt/anaconda3/envs/domain-classifier/lib/python3.11/site-packages/sklearn/feature_selection/_univariate_selection.py:113: RuntimeWarning: invalid value encountered in divide\n",
      "  f = msb / msw\n"
     ]
    },
    {
     "name": "stdout",
     "output_type": "stream",
     "text": [
      "              precision    recall  f1-score   support\n",
      "\n",
      "           0       1.00      0.99      1.00    148236\n",
      "           1       0.56      0.63      0.60      1505\n",
      "\n",
      "    accuracy                           0.99    149741\n",
      "   macro avg       0.78      0.81      0.80    149741\n",
      "weighted avg       0.99      0.99      0.99    149741\n",
      "\n"
     ]
    },
    {
     "data": {
      "image/png": "[encoded data removed]",
      "text/plain": [
       "<Figure size 500x400 with 2 Axes>"
      ]
     },
     "metadata": {},
     "output_type": "display_data"
    }
   ],
   "source": [
    "clf = DecisionTreeClassifier(max_depth=5, random_state=42)\n",
    "generate_clf_results(X_train, y_train, X_test, y_test, clf, sampling_strategy=0.1)"
   ]
  },
  {
   "cell_type": "code",
   "execution_count": 196,
   "id": "2406c193-5882-4706-a48f-12e232be12de",
   "metadata": {},
   "outputs": [
    {
     "name": "stderr",
     "output_type": "stream",
     "text": [
      "/opt/anaconda3/envs/domain-classifier/lib/python3.11/site-packages/sklearn/feature_selection/_univariate_selection.py:112: UserWarning: Features [ 2  3 12 16] are constant.\n",
      "  warnings.warn(\"Features %s are constant.\" % constant_features_idx, UserWarning)\n",
      "/opt/anaconda3/envs/domain-classifier/lib/python3.11/site-packages/sklearn/feature_selection/_univariate_selection.py:113: RuntimeWarning: invalid value encountered in divide\n",
      "  f = msb / msw\n"
     ]
    },
    {
     "name": "stdout",
     "output_type": "stream",
     "text": [
      "              precision    recall  f1-score   support\n",
      "\n",
      "           0       1.00      0.98      0.99    148236\n",
      "           1       0.22      0.66      0.33      1505\n",
      "\n",
      "    accuracy                           0.97    149741\n",
      "   macro avg       0.61      0.82      0.66    149741\n",
      "weighted avg       0.99      0.97      0.98    149741\n",
      "\n"
     ]
    },
    {
     "ename": "TypeError",
     "evalue": "cannot unpack non-iterable NoneType object",
     "output_type": "error",
     "traceback": [
      "\u001b[0;31m---------------------------------------------------------------------------\u001b[0m",
      "\u001b[0;31mTypeError\u001b[0m                                 Traceback (most recent call last)",
      "Cell \u001b[0;32mIn[196], line 2\u001b[0m\n\u001b[1;32m      1\u001b[0m clf \u001b[38;5;241m=\u001b[39m DecisionTreeClassifier(max_depth\u001b[38;5;241m=\u001b[39m\u001b[38;5;241m5\u001b[39m, random_state\u001b[38;5;241m=\u001b[39m\u001b[38;5;241m42\u001b[39m)\n\u001b[0;32m----> 2\u001b[0m f1, recall, precision \u001b[38;5;241m=\u001b[39m generate_clf_results(X_train, y_train, X_test, y_test, clf, sampling_strategy\u001b[38;5;241m=\u001b[39m\u001b[38;5;241m0.5\u001b[39m)\n",
      "\u001b[0;31mTypeError\u001b[0m: cannot unpack non-iterable NoneType object"
     ]
    },
    {
     "data": {
      "image/png": "[encoded data removed]",
      "text/plain": [
       "<Figure size 500x400 with 2 Axes>"
      ]
     },
     "metadata": {},
     "output_type": "display_data"
    }
   ],
   "source": [
    "clf = DecisionTreeClassifier(max_depth=5, random_state=42)\n",
    "generate_clf_results(X_train, y_train, X_test, y_test, clf, sampling_strategy=0.5)"
   ]
  },
  {
   "cell_type": "code",
   "execution_count": 197,
   "id": "52393ff3-69b9-46a7-b8be-3bc438e269df",
   "metadata": {},
   "outputs": [
    {
     "name": "stderr",
     "output_type": "stream",
     "text": [
      "/opt/anaconda3/envs/domain-classifier/lib/python3.11/site-packages/sklearn/feature_selection/_univariate_selection.py:112: UserWarning: Features [ 2  3 12 16] are constant.\n",
      "  warnings.warn(\"Features %s are constant.\" % constant_features_idx, UserWarning)\n",
      "/opt/anaconda3/envs/domain-classifier/lib/python3.11/site-packages/sklearn/feature_selection/_univariate_selection.py:113: RuntimeWarning: invalid value encountered in divide\n",
      "  f = msb / msw\n"
     ]
    },
    {
     "name": "stdout",
     "output_type": "stream",
     "text": [
      "              precision    recall  f1-score   support\n",
      "\n",
      "           0       1.00      0.97      0.98    148236\n",
      "           1       0.17      0.68      0.27      1505\n",
      "\n",
      "    accuracy                           0.96    149741\n",
      "   macro avg       0.58      0.82      0.62    149741\n",
      "weighted avg       0.99      0.96      0.97    149741\n",
      "\n"
     ]
    },
    {
     "ename": "TypeError",
     "evalue": "cannot unpack non-iterable NoneType object",
     "output_type": "error",
     "traceback": [
      "\u001b[0;31m---------------------------------------------------------------------------\u001b[0m",
      "\u001b[0;31mTypeError\u001b[0m                                 Traceback (most recent call last)",
      "Cell \u001b[0;32mIn[197], line 2\u001b[0m\n\u001b[1;32m      1\u001b[0m clf \u001b[38;5;241m=\u001b[39m DecisionTreeClassifier(max_depth\u001b[38;5;241m=\u001b[39m\u001b[38;5;241m5\u001b[39m, random_state\u001b[38;5;241m=\u001b[39m\u001b[38;5;241m42\u001b[39m)\n\u001b[0;32m----> 2\u001b[0m f1, recall, precision \u001b[38;5;241m=\u001b[39m generate_clf_results(X_train, y_train, X_test, y_test, clf, sampling_strategy\u001b[38;5;241m=\u001b[39m\u001b[38;5;241m0.8\u001b[39m)\n",
      "\u001b[0;31mTypeError\u001b[0m: cannot unpack non-iterable NoneType object"
     ]
    },
    {
     "data": {
      "image/png": "[encoded data removed]",
      "text/plain": [
       "<Figure size 500x400 with 2 Axes>"
      ]
     },
     "metadata": {},
     "output_type": "display_data"
    }
   ],
   "source": [
    "clf = DecisionTreeClassifier(max_depth=5, random_state=42)\n",
    "generate_clf_results(X_train, y_train, X_test, y_test, clf, sampling_strategy=0.8)"
   ]
  },
  {
   "cell_type": "code",
   "execution_count": 198,
   "id": "caf09ebc-ebd2-46b7-88f8-d0f4cd4d8aad",
   "metadata": {},
   "outputs": [
    {
     "name": "stderr",
     "output_type": "stream",
     "text": [
      "/opt/anaconda3/envs/domain-classifier/lib/python3.11/site-packages/sklearn/feature_selection/_univariate_selection.py:112: UserWarning: Features [ 2  3 12 16] are constant.\n",
      "  warnings.warn(\"Features %s are constant.\" % constant_features_idx, UserWarning)\n",
      "/opt/anaconda3/envs/domain-classifier/lib/python3.11/site-packages/sklearn/feature_selection/_univariate_selection.py:113: RuntimeWarning: invalid value encountered in divide\n",
      "  f = msb / msw\n"
     ]
    },
    {
     "name": "stdout",
     "output_type": "stream",
     "text": [
      "              precision    recall  f1-score   support\n",
      "\n",
      "           0       1.00      0.97      0.98    148236\n",
      "           1       0.19      0.66      0.29      1505\n",
      "\n",
      "    accuracy                           0.97    149741\n",
      "   macro avg       0.59      0.81      0.64    149741\n",
      "weighted avg       0.99      0.97      0.98    149741\n",
      "\n"
     ]
    },
    {
     "ename": "TypeError",
     "evalue": "cannot unpack non-iterable NoneType object",
     "output_type": "error",
     "traceback": [
      "\u001b[0;31m---------------------------------------------------------------------------\u001b[0m",
      "\u001b[0;31mTypeError\u001b[0m                                 Traceback (most recent call last)",
      "Cell \u001b[0;32mIn[198], line 2\u001b[0m\n\u001b[1;32m      1\u001b[0m clf \u001b[38;5;241m=\u001b[39m DecisionTreeClassifier(max_depth\u001b[38;5;241m=\u001b[39m\u001b[38;5;241m5\u001b[39m, random_state\u001b[38;5;241m=\u001b[39m\u001b[38;5;241m42\u001b[39m)\n\u001b[0;32m----> 2\u001b[0m f1, recall, precision \u001b[38;5;241m=\u001b[39m generate_clf_results(X_train, y_train, X_test, y_test, clf, sampling_strategy\u001b[38;5;241m=\u001b[39m\u001b[38;5;241m1\u001b[39m)\n",
      "\u001b[0;31mTypeError\u001b[0m: cannot unpack non-iterable NoneType object"
     ]
    },
    {
     "data": {
      "image/png": "[encoded data removed]",
      "text/plain": [
       "<Figure size 500x400 with 2 Axes>"
      ]
     },
     "metadata": {},
     "output_type": "display_data"
    }
   ],
   "source": [
    "clf = DecisionTreeClassifier(max_depth=5, random_state=42)\n",
    "f1, recall, precision = generate_clf_results(X_train, y_train, X_test, y_test, clf, sampling_strategy=1)"
   ]
  },
  {
   "cell_type": "markdown",
   "id": "f68cbcf9-5376-482e-9c10-7a9ed453b26d",
   "metadata": {},
   "source": [
    "## Mini-batch training to get quick overview of different models performance"
   ]
  },
  {
   "cell_type": "code",
   "execution_count": 295,
   "id": "31cb1277-9a4b-474a-8efb-362f80f1dfd6",
   "metadata": {},
   "outputs": [],
   "source": [
    "# Create numerical and categorical transformation data pipeline\n",
    "numeric_transformer = Pipeline(steps=[\n",
    "   ('imputer', KNNImputer(n_neighbors=2, weights=\"uniform\"))])\n",
    "\n",
    "categorical_transformer = Pipeline(steps=[\n",
    "   ('imputer', SimpleImputer(strategy='most_frequent')),\n",
    "   ('targetencoder', TargetEncoder())])\n",
    "\n",
    "# Process and transform the training feature using ColumnTransformer\n",
    "preprocessor = ColumnTransformer(\n",
    "   remainder = 'passthrough',\n",
    "   transformers=[\n",
    "       ('numeric', numeric_transformer, num_col),\n",
    "       ('categorical', categorical_transformer, cat_col)\n",
    "])"
   ]
  },
  {
   "cell_type": "code",
   "execution_count": 296,
   "id": "8b0ccce1-a975-44eb-b36f-9b5fdff3cd09",
   "metadata": {},
   "outputs": [],
   "source": [
    "# define undersample strategy\n",
    "undersample = RandomUnderSampler(sampling_strategy=0.8)\n",
    "# fit and apply the transform\n",
    "X_under, y_under = undersample.fit_resample(X_train, y_train)"
   ]
  },
  {
   "cell_type": "markdown",
   "id": "60294c92-8c24-4bcf-b561-a5d44cf907cb",
   "metadata": {},
   "source": [
    "Iterate over the different classifiers"
   ]
  },
  {
   "cell_type": "code",
   "execution_count": 297,
   "id": "bb0ab06f-ae33-483e-81ed-cfce6abd0ea2",
   "metadata": {},
   "outputs": [],
   "source": [
    "names = [\n",
    "    \"Logistic Regression\",\n",
    "    \"Nearest Neighbors\",\n",
    "    \"Linear SVM\",\n",
    "    \"RBF SVM\",\n",
    "    \"Gaussian Process\",\n",
    "    \"Decision Tree\",\n",
    "    \"Random Forest\",\n",
    "    \"Neural Net\",\n",
    "    \"AdaBoost\",\n",
    "    \"Naive Bayes\"\n",
    "]\n",
    "\n",
    "classifiers = [\n",
    "    LogisticRegression(random_state=42),\n",
    "    KNeighborsClassifier(3),\n",
    "    SVC(kernel=\"linear\", C=0.025, random_state=42),\n",
    "    SVC(gamma=2, C=1, random_state=42),\n",
    "    GaussianProcessClassifier(1.0 * RBF(1.0), random_state=42),\n",
    "    DecisionTreeClassifier(max_depth=5, random_state=42),\n",
    "    RandomForestClassifier(max_depth=5, n_estimators=10, max_features=1, random_state=42),\n",
    "    MLPClassifier(alpha=1, max_iter=1000, random_state=42),\n",
    "    AdaBoostClassifier(random_state=42),\n",
    "    GaussianNB()\n",
    "]\n"
   ]
  },
  {
   "cell_type": "code",
   "execution_count": 298,
   "id": "cc6f4fec-79fb-44e8-a335-d3e1e10af5c8",
   "metadata": {},
   "outputs": [],
   "source": [
    "model_name = []\n",
    "true_positive = []\n",
    "false_negative = []\n",
    "false_positive = []\n",
    "true_negative = []\n",
    "clf_report=[]"
   ]
  },
  {
   "cell_type": "code",
   "execution_count": 299,
   "id": "7ee758e1-02d4-4aa5-9f28-4996b5426fd3",
   "metadata": {},
   "outputs": [
    {
     "name": "stdout",
     "output_type": "stream",
     "text": [
      "Classifier: Logistic Regression\n"
     ]
    },
    {
     "name": "stderr",
     "output_type": "stream",
     "text": [
      "/opt/anaconda3/envs/domain-classifier/lib/python3.11/site-packages/sklearn/feature_selection/_univariate_selection.py:112: UserWarning: Features [ 2  3 12 16] are constant.\n",
      "  warnings.warn(\"Features %s are constant.\" % constant_features_idx, UserWarning)\n",
      "/opt/anaconda3/envs/domain-classifier/lib/python3.11/site-packages/sklearn/feature_selection/_univariate_selection.py:113: RuntimeWarning: invalid value encountered in divide\n",
      "  f = msb / msw\n"
     ]
    },
    {
     "name": "stdout",
     "output_type": "stream",
     "text": [
      "Classifier: Nearest Neighbors\n"
     ]
    },
    {
     "name": "stderr",
     "output_type": "stream",
     "text": [
      "/opt/anaconda3/envs/domain-classifier/lib/python3.11/site-packages/sklearn/feature_selection/_univariate_selection.py:112: UserWarning: Features [ 2  3 12 16] are constant.\n",
      "  warnings.warn(\"Features %s are constant.\" % constant_features_idx, UserWarning)\n",
      "/opt/anaconda3/envs/domain-classifier/lib/python3.11/site-packages/sklearn/feature_selection/_univariate_selection.py:113: RuntimeWarning: invalid value encountered in divide\n",
      "  f = msb / msw\n"
     ]
    },
    {
     "name": "stdout",
     "output_type": "stream",
     "text": [
      "Classifier: Linear SVM\n"
     ]
    },
    {
     "name": "stderr",
     "output_type": "stream",
     "text": [
      "/opt/anaconda3/envs/domain-classifier/lib/python3.11/site-packages/sklearn/feature_selection/_univariate_selection.py:112: UserWarning: Features [ 2  3 12 16] are constant.\n",
      "  warnings.warn(\"Features %s are constant.\" % constant_features_idx, UserWarning)\n",
      "/opt/anaconda3/envs/domain-classifier/lib/python3.11/site-packages/sklearn/feature_selection/_univariate_selection.py:113: RuntimeWarning: invalid value encountered in divide\n",
      "  f = msb / msw\n"
     ]
    },
    {
     "name": "stdout",
     "output_type": "stream",
     "text": [
      "Classifier: RBF SVM\n"
     ]
    },
    {
     "name": "stderr",
     "output_type": "stream",
     "text": [
      "/opt/anaconda3/envs/domain-classifier/lib/python3.11/site-packages/sklearn/feature_selection/_univariate_selection.py:112: UserWarning: Features [ 2  3 12 16] are constant.\n",
      "  warnings.warn(\"Features %s are constant.\" % constant_features_idx, UserWarning)\n",
      "/opt/anaconda3/envs/domain-classifier/lib/python3.11/site-packages/sklearn/feature_selection/_univariate_selection.py:113: RuntimeWarning: invalid value encountered in divide\n",
      "  f = msb / msw\n"
     ]
    },
    {
     "name": "stdout",
     "output_type": "stream",
     "text": [
      "Classifier: Gaussian Process\n"
     ]
    },
    {
     "name": "stderr",
     "output_type": "stream",
     "text": [
      "/opt/anaconda3/envs/domain-classifier/lib/python3.11/site-packages/sklearn/feature_selection/_univariate_selection.py:112: UserWarning: Features [ 2  3 12 16] are constant.\n",
      "  warnings.warn(\"Features %s are constant.\" % constant_features_idx, UserWarning)\n",
      "/opt/anaconda3/envs/domain-classifier/lib/python3.11/site-packages/sklearn/feature_selection/_univariate_selection.py:113: RuntimeWarning: invalid value encountered in divide\n",
      "  f = msb / msw\n"
     ]
    },
    {
     "name": "stdout",
     "output_type": "stream",
     "text": [
      "Classifier: Decision Tree\n"
     ]
    },
    {
     "name": "stderr",
     "output_type": "stream",
     "text": [
      "/opt/anaconda3/envs/domain-classifier/lib/python3.11/site-packages/sklearn/feature_selection/_univariate_selection.py:112: UserWarning: Features [ 2  3 12 16] are constant.\n",
      "  warnings.warn(\"Features %s are constant.\" % constant_features_idx, UserWarning)\n",
      "/opt/anaconda3/envs/domain-classifier/lib/python3.11/site-packages/sklearn/feature_selection/_univariate_selection.py:113: RuntimeWarning: invalid value encountered in divide\n",
      "  f = msb / msw\n"
     ]
    },
    {
     "name": "stdout",
     "output_type": "stream",
     "text": [
      "Classifier: Random Forest\n"
     ]
    },
    {
     "name": "stderr",
     "output_type": "stream",
     "text": [
      "/opt/anaconda3/envs/domain-classifier/lib/python3.11/site-packages/sklearn/feature_selection/_univariate_selection.py:112: UserWarning: Features [ 2  3 12 16] are constant.\n",
      "  warnings.warn(\"Features %s are constant.\" % constant_features_idx, UserWarning)\n",
      "/opt/anaconda3/envs/domain-classifier/lib/python3.11/site-packages/sklearn/feature_selection/_univariate_selection.py:113: RuntimeWarning: invalid value encountered in divide\n",
      "  f = msb / msw\n"
     ]
    },
    {
     "name": "stdout",
     "output_type": "stream",
     "text": [
      "Classifier: Neural Net\n"
     ]
    },
    {
     "name": "stderr",
     "output_type": "stream",
     "text": [
      "/opt/anaconda3/envs/domain-classifier/lib/python3.11/site-packages/sklearn/feature_selection/_univariate_selection.py:112: UserWarning: Features [ 2  3 12 16] are constant.\n",
      "  warnings.warn(\"Features %s are constant.\" % constant_features_idx, UserWarning)\n",
      "/opt/anaconda3/envs/domain-classifier/lib/python3.11/site-packages/sklearn/feature_selection/_univariate_selection.py:113: RuntimeWarning: invalid value encountered in divide\n",
      "  f = msb / msw\n"
     ]
    },
    {
     "name": "stdout",
     "output_type": "stream",
     "text": [
      "Classifier: AdaBoost\n"
     ]
    },
    {
     "name": "stderr",
     "output_type": "stream",
     "text": [
      "/opt/anaconda3/envs/domain-classifier/lib/python3.11/site-packages/sklearn/feature_selection/_univariate_selection.py:112: UserWarning: Features [ 2  3 12 16] are constant.\n",
      "  warnings.warn(\"Features %s are constant.\" % constant_features_idx, UserWarning)\n",
      "/opt/anaconda3/envs/domain-classifier/lib/python3.11/site-packages/sklearn/feature_selection/_univariate_selection.py:113: RuntimeWarning: invalid value encountered in divide\n",
      "  f = msb / msw\n"
     ]
    },
    {
     "name": "stdout",
     "output_type": "stream",
     "text": [
      "Classifier: Naive Bayes\n"
     ]
    },
    {
     "name": "stderr",
     "output_type": "stream",
     "text": [
      "/opt/anaconda3/envs/domain-classifier/lib/python3.11/site-packages/sklearn/feature_selection/_univariate_selection.py:112: UserWarning: Features [ 2  3 12 16] are constant.\n",
      "  warnings.warn(\"Features %s are constant.\" % constant_features_idx, UserWarning)\n",
      "/opt/anaconda3/envs/domain-classifier/lib/python3.11/site-packages/sklearn/feature_selection/_univariate_selection.py:113: RuntimeWarning: invalid value encountered in divide\n",
      "  f = msb / msw\n"
     ]
    }
   ],
   "source": [
    "# iterate over classifiers\n",
    "for name, clf in zip(names, classifiers):\n",
    "    print(\"Classifier: \" + name)\n",
    "    \n",
    "    #Create pipeline\n",
    "    transform = Pipeline(\n",
    "       steps=[\n",
    "           ('processing', preprocessor),\n",
    "           ('scaler', StandardScaler()),  # Define a Standard Scaler to normalize inputs\n",
    "           ('feature_selection', SelectKBest(k=12)), # Create a feature selection method (e.g., SelectKBest)\n",
    "           # ('pca', PCA(n_components=3)),  # Dimensionality reduction with PCA\n",
    "           (name, clf)\n",
    "       ]\n",
    "    )\n",
    "    \n",
    "    #Train model\n",
    "    model = transform.fit(X_under, y_under)\n",
    "    #Generate predictions\n",
    "    y_pred = model.predict(X_test)\n",
    "    \n",
    "    cm = confusion_matrix(y_test, y_pred)\n",
    "                          \n",
    "    #Append model name, performance and evaluation metrics\n",
    "    model_name.append(name)\n",
    "    true_positive.append(cm[0, 0])\n",
    "    false_negative.append(cm[0, 1])\n",
    "    false_positive.append(cm[1, 0])\n",
    "    true_negative.append(cm[1, 1])\n",
    "    \n",
    "    clf_report.append(classification_report(y_test, y_pred, output_dict=True))  \n",
    "    "
   ]
  },
  {
   "cell_type": "code",
   "execution_count": 326,
   "id": "0a84f823-39b9-484d-8e28-f5315f8d75ea",
   "metadata": {},
   "outputs": [
    {
     "data": {
      "text/html": [
       "<div>\n",
       "<style scoped>\n",
       "    .dataframe tbody tr th:only-of-type {\n",
       "        vertical-align: middle;\n",
       "    }\n",
       "\n",
       "    .dataframe tbody tr th {\n",
       "        vertical-align: top;\n",
       "    }\n",
       "\n",
       "    .dataframe thead th {\n",
       "        text-align: right;\n",
       "    }\n",
       "</style>\n",
       "<table border=\"1\" class=\"dataframe\">\n",
       "  <thead>\n",
       "    <tr style=\"text-align: right;\">\n",
       "      <th></th>\n",
       "      <th>Model</th>\n",
       "      <th>accuracy</th>\n",
       "      <th>recall</th>\n",
       "      <th>f1_score</th>\n",
       "      <th>0_precision</th>\n",
       "      <th>1_precision</th>\n",
       "      <th>0_recall</th>\n",
       "      <th>1_recall</th>\n",
       "      <th>0_f1-score</th>\n",
       "      <th>1_f1-score</th>\n",
       "      <th>true_positive</th>\n",
       "      <th>false_negative</th>\n",
       "      <th>false_positive</th>\n",
       "      <th>true_negative</th>\n",
       "    </tr>\n",
       "  </thead>\n",
       "  <tbody>\n",
       "    <tr>\n",
       "      <th>0</th>\n",
       "      <td>Logistic Regression</td>\n",
       "      <td>0.954321</td>\n",
       "      <td>0.831247</td>\n",
       "      <td>0.831247</td>\n",
       "      <td>0.996886</td>\n",
       "      <td>0.142378</td>\n",
       "      <td>0.956846</td>\n",
       "      <td>0.705648</td>\n",
       "      <td>0.976456</td>\n",
       "      <td>0.236948</td>\n",
       "      <td>141839</td>\n",
       "      <td>6397</td>\n",
       "      <td>443</td>\n",
       "      <td>1062</td>\n",
       "    </tr>\n",
       "    <tr>\n",
       "      <th>1</th>\n",
       "      <td>Nearest Neighbors</td>\n",
       "      <td>0.806753</td>\n",
       "      <td>0.795847</td>\n",
       "      <td>0.795847</td>\n",
       "      <td>0.997299</td>\n",
       "      <td>0.039639</td>\n",
       "      <td>0.806977</td>\n",
       "      <td>0.784718</td>\n",
       "      <td>0.892100</td>\n",
       "      <td>0.075466</td>\n",
       "      <td>119623</td>\n",
       "      <td>28613</td>\n",
       "      <td>324</td>\n",
       "      <td>1181</td>\n",
       "    </tr>\n",
       "    <tr>\n",
       "      <th>2</th>\n",
       "      <td>Linear SVM</td>\n",
       "      <td>0.961393</td>\n",
       "      <td>0.828571</td>\n",
       "      <td>0.828571</td>\n",
       "      <td>0.996778</td>\n",
       "      <td>0.163942</td>\n",
       "      <td>0.964118</td>\n",
       "      <td>0.693023</td>\n",
       "      <td>0.980176</td>\n",
       "      <td>0.265158</td>\n",
       "      <td>142917</td>\n",
       "      <td>5319</td>\n",
       "      <td>462</td>\n",
       "      <td>1043</td>\n",
       "    </tr>\n",
       "    <tr>\n",
       "      <th>3</th>\n",
       "      <td>RBF SVM</td>\n",
       "      <td>0.909918</td>\n",
       "      <td>0.824934</td>\n",
       "      <td>0.824934</td>\n",
       "      <td>0.997093</td>\n",
       "      <td>0.078206</td>\n",
       "      <td>0.911661</td>\n",
       "      <td>0.738206</td>\n",
       "      <td>0.952465</td>\n",
       "      <td>0.141430</td>\n",
       "      <td>135141</td>\n",
       "      <td>13095</td>\n",
       "      <td>394</td>\n",
       "      <td>1111</td>\n",
       "    </tr>\n",
       "    <tr>\n",
       "      <th>4</th>\n",
       "      <td>Gaussian Process</td>\n",
       "      <td>0.957206</td>\n",
       "      <td>0.832046</td>\n",
       "      <td>0.832046</td>\n",
       "      <td>0.996882</td>\n",
       "      <td>0.150933</td>\n",
       "      <td>0.959774</td>\n",
       "      <td>0.704319</td>\n",
       "      <td>0.977976</td>\n",
       "      <td>0.248593</td>\n",
       "      <td>142273</td>\n",
       "      <td>5963</td>\n",
       "      <td>445</td>\n",
       "      <td>1060</td>\n",
       "    </tr>\n",
       "    <tr>\n",
       "      <th>5</th>\n",
       "      <td>Decision Tree</td>\n",
       "      <td>0.949706</td>\n",
       "      <td>0.833191</td>\n",
       "      <td>0.833191</td>\n",
       "      <td>0.996963</td>\n",
       "      <td>0.131482</td>\n",
       "      <td>0.952097</td>\n",
       "      <td>0.714286</td>\n",
       "      <td>0.974013</td>\n",
       "      <td>0.222084</td>\n",
       "      <td>141135</td>\n",
       "      <td>7101</td>\n",
       "      <td>430</td>\n",
       "      <td>1075</td>\n",
       "    </tr>\n",
       "    <tr>\n",
       "      <th>6</th>\n",
       "      <td>Random Forest</td>\n",
       "      <td>0.984820</td>\n",
       "      <td>0.775290</td>\n",
       "      <td>0.775290</td>\n",
       "      <td>0.995519</td>\n",
       "      <td>0.343775</td>\n",
       "      <td>0.989119</td>\n",
       "      <td>0.561462</td>\n",
       "      <td>0.992308</td>\n",
       "      <td>0.426445</td>\n",
       "      <td>146623</td>\n",
       "      <td>1613</td>\n",
       "      <td>660</td>\n",
       "      <td>845</td>\n",
       "    </tr>\n",
       "    <tr>\n",
       "      <th>7</th>\n",
       "      <td>Neural Net</td>\n",
       "      <td>0.954575</td>\n",
       "      <td>0.832033</td>\n",
       "      <td>0.832033</td>\n",
       "      <td>0.996901</td>\n",
       "      <td>0.143300</td>\n",
       "      <td>0.957089</td>\n",
       "      <td>0.706977</td>\n",
       "      <td>0.976589</td>\n",
       "      <td>0.238298</td>\n",
       "      <td>141875</td>\n",
       "      <td>6361</td>\n",
       "      <td>441</td>\n",
       "      <td>1064</td>\n",
       "    </tr>\n",
       "    <tr>\n",
       "      <th>8</th>\n",
       "      <td>AdaBoost</td>\n",
       "      <td>0.952244</td>\n",
       "      <td>0.838419</td>\n",
       "      <td>0.838419</td>\n",
       "      <td>0.997055</td>\n",
       "      <td>0.139003</td>\n",
       "      <td>0.954579</td>\n",
       "      <td>0.722259</td>\n",
       "      <td>0.975355</td>\n",
       "      <td>0.233137</td>\n",
       "      <td>141503</td>\n",
       "      <td>6733</td>\n",
       "      <td>418</td>\n",
       "      <td>1087</td>\n",
       "    </tr>\n",
       "    <tr>\n",
       "      <th>9</th>\n",
       "      <td>Naive Bayes</td>\n",
       "      <td>0.953286</td>\n",
       "      <td>0.744565</td>\n",
       "      <td>0.744565</td>\n",
       "      <td>0.995058</td>\n",
       "      <td>0.112835</td>\n",
       "      <td>0.957568</td>\n",
       "      <td>0.531561</td>\n",
       "      <td>0.975953</td>\n",
       "      <td>0.186155</td>\n",
       "      <td>141946</td>\n",
       "      <td>6290</td>\n",
       "      <td>705</td>\n",
       "      <td>800</td>\n",
       "    </tr>\n",
       "  </tbody>\n",
       "</table>\n",
       "</div>"
      ],
      "text/plain": [
       "                 Model  accuracy    recall  f1_score  0_precision  \\\n",
       "0  Logistic Regression  0.954321  0.831247  0.831247     0.996886   \n",
       "1    Nearest Neighbors  0.806753  0.795847  0.795847     0.997299   \n",
       "2           Linear SVM  0.961393  0.828571  0.828571     0.996778   \n",
       "3              RBF SVM  0.909918  0.824934  0.824934     0.997093   \n",
       "4     Gaussian Process  0.957206  0.832046  0.832046     0.996882   \n",
       "5        Decision Tree  0.949706  0.833191  0.833191     0.996963   \n",
       "6        Random Forest  0.984820  0.775290  0.775290     0.995519   \n",
       "7           Neural Net  0.954575  0.832033  0.832033     0.996901   \n",
       "8             AdaBoost  0.952244  0.838419  0.838419     0.997055   \n",
       "9          Naive Bayes  0.953286  0.744565  0.744565     0.995058   \n",
       "\n",
       "   1_precision  0_recall  1_recall  0_f1-score  1_f1-score  true_positive  \\\n",
       "0     0.142378  0.956846  0.705648    0.976456    0.236948         141839   \n",
       "1     0.039639  0.806977  0.784718    0.892100    0.075466         119623   \n",
       "2     0.163942  0.964118  0.693023    0.980176    0.265158         142917   \n",
       "3     0.078206  0.911661  0.738206    0.952465    0.141430         135141   \n",
       "4     0.150933  0.959774  0.704319    0.977976    0.248593         142273   \n",
       "5     0.131482  0.952097  0.714286    0.974013    0.222084         141135   \n",
       "6     0.343775  0.989119  0.561462    0.992308    0.426445         146623   \n",
       "7     0.143300  0.957089  0.706977    0.976589    0.238298         141875   \n",
       "8     0.139003  0.954579  0.722259    0.975355    0.233137         141503   \n",
       "9     0.112835  0.957568  0.531561    0.975953    0.186155         141946   \n",
       "\n",
       "   false_negative  false_positive  true_negative  \n",
       "0            6397             443           1062  \n",
       "1           28613             324           1181  \n",
       "2            5319             462           1043  \n",
       "3           13095             394           1111  \n",
       "4            5963             445           1060  \n",
       "5            7101             430           1075  \n",
       "6            1613             660            845  \n",
       "7            6361             441           1064  \n",
       "8            6733             418           1087  \n",
       "9            6290             705            800  "
      ]
     },
     "execution_count": 326,
     "metadata": {},
     "output_type": "execute_result"
    }
   ],
   "source": [
    "data = {\n",
    "    'Model': model_name,\n",
    "    'accuracy': [x['accuracy'] for x in clf_report],\n",
    "    'recall': [x['macro avg']['recall'] for x in clf_report],\n",
    "    'f1_score': [x['macro avg']['recall'] for x in clf_report],\n",
    "    '0_precision': [x['0']['precision'] for x in clf_report],\n",
    "    '1_precision': [x['1']['precision'] for x in clf_report],\n",
    "    '0_recall': [x['0']['recall'] for x in clf_report],\n",
    "    '1_recall': [x['1']['recall'] for x in clf_report],\n",
    "    '0_f1-score': [x['0']['f1-score'] for x in clf_report],\n",
    "    '1_f1-score': [x['1']['f1-score'] for x in clf_report],\n",
    "    'true_positive': true_positive,\n",
    "    'false_negative': false_negative,\n",
    "    'false_positive': false_positive,\n",
    "    'true_negative': true_negative\n",
    "}\n",
    "\n",
    "results_df = pd.DataFrame(data)\n",
    "results_df"
   ]
  },
  {
   "cell_type": "markdown",
   "id": "d5a08d9c-4838-48e3-9f78-771c18676087",
   "metadata": {},
   "source": [
    "I would think that when you are trying to deploy a model, it's cleaner to have a pipeline of transformations on dataset using sklearn. You could even add all the transformations on your dataset, before training or inference, in a nice pipeline wrapper, such as a sklearn.pipeline.Pipeline object. If you use an sklearn implementation, it's easier to integrate and debug later."
   ]
  }
 ],
 "metadata": {
  "kernelspec": {
   "display_name": "Python [conda env:domain-classifier]",
   "language": "python",
   "name": "conda-env-domain-classifier-py"
  },
  "language_info": {
   "codemirror_mode": {
    "name": "ipython",
    "version": 3
   },
   "file_extension": ".py",
   "mimetype": "text/x-python",
   "name": "python",
   "nbconvert_exporter": "python",
   "pygments_lexer": "ipython3",
   "version": "3.11.5"
  }
 },
 "nbformat": 4,
 "nbformat_minor": 5
}
